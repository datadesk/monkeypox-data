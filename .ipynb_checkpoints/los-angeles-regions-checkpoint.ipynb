{
 "cells": [
  {
   "cell_type": "code",
   "execution_count": 1,
   "id": "02fa9d30-708e-4afc-818e-12678f4b9f16",
   "metadata": {},
   "outputs": [],
   "source": [
    "import requests\n",
    "import pandas as pd\n",
    "from bs4 import BeautifulSoup\n",
    "import re\n",
    "import json\n",
    "from datetime import datetime"
   ]
  },
  {
   "cell_type": "markdown",
   "id": "8cc585d1-2cee-4423-b09e-9b863d9adba6",
   "metadata": {},
   "source": [
    "### Download"
   ]
  },
  {
   "cell_type": "code",
   "execution_count": 2,
   "id": "4fbd18f6-78bf-49ca-9722-76350e702092",
   "metadata": {},
   "outputs": [],
   "source": [
    "url = 'http://publichealth.lacounty.gov/media/monkeypox/maps/first/mpx-spamap-widget.html'"
   ]
  },
  {
   "cell_type": "code",
   "execution_count": 3,
   "id": "0adcfd5d-08e8-4670-87b1-6018213eaff4",
   "metadata": {},
   "outputs": [],
   "source": [
    "page = requests.get(url, verify=False)"
   ]
  },
  {
   "cell_type": "markdown",
   "id": "93aae559-f384-4bbe-a974-083817740cfc",
   "metadata": {},
   "source": [
    "### Parse"
   ]
  },
  {
   "cell_type": "code",
   "execution_count": 4,
   "id": "003e4608-4b98-4e0f-8644-c7efa569dc2e",
   "metadata": {},
   "outputs": [],
   "source": [
    "soup = BeautifulSoup(page.content, \"html.parser\")"
   ]
  },
  {
   "cell_type": "code",
   "execution_count": 9,
   "id": "6168e90d-056e-412e-92c3-c79544c8664f",
   "metadata": {},
   "outputs": [],
   "source": [
    "for elem in soup(text=re.compile(r\"Case Counts\")):\n",
    "    script_content = elem"
   ]
  },
  {
   "cell_type": "code",
   "execution_count": 11,
   "id": "1eb65962-7925-4c36-8b1f-fd37f064153e",
   "metadata": {},
   "outputs": [],
   "source": [
    "data = json.loads(script_content)"
   ]
  },
  {
   "cell_type": "code",
   "execution_count": 59,
   "id": "21ba9e48-e068-4ff4-8955-accea84d913f",
   "metadata": {},
   "outputs": [],
   "source": [
    "regions_list = data[\"x\"][\"calls\"][1][\"args\"][4]"
   ]
  },
  {
   "cell_type": "code",
   "execution_count": 81,
   "id": "3eb53ddc-cb36-41d5-9c75-a9299de9de54",
   "metadata": {},
   "outputs": [],
   "source": [
    "dict_list = []\n",
    "TAG_RE = re.compile(r\"<[^>]+>\")\n",
    "for z in regions_list:\n",
    "    split = z.split(\"<br>\")\n",
    "    area = TAG_RE.sub(\"\", str(split[0]))\n",
    "    spa = area[:7]\n",
    "    region_name = re.split('[0-9]', area)[1].strip()\n",
    "    cases = TAG_RE.sub(\"\", str(split[1]))\n",
    "    cases_clean = cases.split(':')[1].strip()\n",
    "    \n",
    "    d = dict(\n",
    "        spa=spa,\n",
    "        region=region_name,\n",
    "        confirmed_cases=cases_clean\n",
    "    )\n",
    "    dict_list.append(d)"
   ]
  },
  {
   "cell_type": "code",
   "execution_count": 82,
   "id": "01692b25-0dd9-40f8-bd7b-122ca3f45b4c",
   "metadata": {},
   "outputs": [],
   "source": [
    "df = pd.DataFrame(dict_list)"
   ]
  },
  {
   "cell_type": "markdown",
   "id": "162a493e-1d06-4b36-ae0e-7706676f5aee",
   "metadata": {},
   "source": [
    "### Get date"
   ]
  },
  {
   "cell_type": "code",
   "execution_count": 85,
   "id": "a3e544f3-a8ed-4cfa-8712-c5387f647855",
   "metadata": {},
   "outputs": [],
   "source": [
    "dashboard_url = 'http://publichealth.lacounty.gov/media/monkeypox/data/index.htm'"
   ]
  },
  {
   "cell_type": "code",
   "execution_count": 86,
   "id": "188d83d5-9c61-4252-a954-e7e7859b49bc",
   "metadata": {},
   "outputs": [],
   "source": [
    "dash_page = requests.get(dashboard_url, verify=False)"
   ]
  },
  {
   "cell_type": "code",
   "execution_count": 87,
   "id": "693e95e4-00c3-4b60-ae3f-3dcabf079884",
   "metadata": {},
   "outputs": [],
   "source": [
    "dash_soup = BeautifulSoup(dash_page.content, \"html.parser\")"
   ]
  },
  {
   "cell_type": "code",
   "execution_count": 88,
   "id": "18dc9130-007d-4fba-9b67-6255c30cdf17",
   "metadata": {},
   "outputs": [],
   "source": [
    "content = dash_soup.find(\"div\", id=\"content\")"
   ]
  },
  {
   "cell_type": "code",
   "execution_count": 117,
   "id": "159f90c4-2e36-425d-8394-f1102e6d7ae2",
   "metadata": {},
   "outputs": [],
   "source": [
    "for elem in content(text=re.compile(r\"Updated on Fridays. Data as of\")):\n",
    "    date_text = elem"
   ]
  },
  {
   "cell_type": "code",
   "execution_count": 124,
   "id": "65c45e4f-4bfd-4ff0-9eb4-3d0d9a332a01",
   "metadata": {},
   "outputs": [
    {
     "data": {
      "text/plain": [
       "'July 29, 2022'"
      ]
     },
     "execution_count": 124,
     "metadata": {},
     "output_type": "execute_result"
    }
   ],
   "source": [
    "date_str = date_text.strip(\"Updated on Fridays. Data as of \")\n",
    "date_str"
   ]
  },
  {
   "cell_type": "code",
   "execution_count": 125,
   "id": "82976f40-a2f3-4c30-9c1b-98a5aee7d437",
   "metadata": {},
   "outputs": [],
   "source": [
    "date = pd.to_datetime(date_str).date()"
   ]
  },
  {
   "cell_type": "code",
   "execution_count": 126,
   "id": "24a1c47f-5efa-46c3-923e-f40f7defc0e2",
   "metadata": {},
   "outputs": [],
   "source": [
    "df['date'] = date"
   ]
  },
  {
   "cell_type": "code",
   "execution_count": 127,
   "id": "b08ae76a-92eb-4531-9229-cfe386ccf0eb",
   "metadata": {},
   "outputs": [],
   "source": [
    "df[\"confirmed_cases\"] = df[\"confirmed_cases\"].astype(int)"
   ]
  },
  {
   "cell_type": "code",
   "execution_count": 128,
   "id": "9062b391-5805-489b-a253-705eaade45bf",
   "metadata": {},
   "outputs": [
    {
     "data": {
      "text/html": [
       "<div>\n",
       "<style scoped>\n",
       "    .dataframe tbody tr th:only-of-type {\n",
       "        vertical-align: middle;\n",
       "    }\n",
       "\n",
       "    .dataframe tbody tr th {\n",
       "        vertical-align: top;\n",
       "    }\n",
       "\n",
       "    .dataframe thead th {\n",
       "        text-align: right;\n",
       "    }\n",
       "</style>\n",
       "<table border=\"1\" class=\"dataframe\">\n",
       "  <thead>\n",
       "    <tr style=\"text-align: right;\">\n",
       "      <th></th>\n",
       "      <th>spa</th>\n",
       "      <th>region</th>\n",
       "      <th>confirmed_cases</th>\n",
       "      <th>date</th>\n",
       "    </tr>\n",
       "  </thead>\n",
       "  <tbody>\n",
       "    <tr>\n",
       "      <th>0</th>\n",
       "      <td>SPA 1</td>\n",
       "      <td>Antelope Valley</td>\n",
       "      <td>8</td>\n",
       "      <td>2022-07-29</td>\n",
       "    </tr>\n",
       "    <tr>\n",
       "      <th>1</th>\n",
       "      <td>SPA 2</td>\n",
       "      <td>San Fernando</td>\n",
       "      <td>51</td>\n",
       "      <td>2022-07-29</td>\n",
       "    </tr>\n",
       "    <tr>\n",
       "      <th>2</th>\n",
       "      <td>SPA 3</td>\n",
       "      <td>San Gabriel</td>\n",
       "      <td>10</td>\n",
       "      <td>2022-07-29</td>\n",
       "    </tr>\n",
       "    <tr>\n",
       "      <th>3</th>\n",
       "      <td>SPA 4</td>\n",
       "      <td>Metro</td>\n",
       "      <td>161</td>\n",
       "      <td>2022-07-29</td>\n",
       "    </tr>\n",
       "    <tr>\n",
       "      <th>4</th>\n",
       "      <td>SPA 5</td>\n",
       "      <td>West</td>\n",
       "      <td>17</td>\n",
       "      <td>2022-07-29</td>\n",
       "    </tr>\n",
       "    <tr>\n",
       "      <th>5</th>\n",
       "      <td>SPA 6</td>\n",
       "      <td>South</td>\n",
       "      <td>23</td>\n",
       "      <td>2022-07-29</td>\n",
       "    </tr>\n",
       "    <tr>\n",
       "      <th>6</th>\n",
       "      <td>SPA 7</td>\n",
       "      <td>East</td>\n",
       "      <td>19</td>\n",
       "      <td>2022-07-29</td>\n",
       "    </tr>\n",
       "    <tr>\n",
       "      <th>7</th>\n",
       "      <td>SPA 8</td>\n",
       "      <td>South Bay</td>\n",
       "      <td>17</td>\n",
       "      <td>2022-07-29</td>\n",
       "    </tr>\n",
       "  </tbody>\n",
       "</table>\n",
       "</div>"
      ],
      "text/plain": [
       "       spa           region  confirmed_cases        date\n",
       "0   SPA 1   Antelope Valley                8  2022-07-29\n",
       "1   SPA 2      San Fernando               51  2022-07-29\n",
       "2   SPA 3       San Gabriel               10  2022-07-29\n",
       "3   SPA 4             Metro              161  2022-07-29\n",
       "4   SPA 5              West               17  2022-07-29\n",
       "5   SPA 6             South               23  2022-07-29\n",
       "6   SPA 7              East               19  2022-07-29\n",
       "7   SPA 8         South Bay               17  2022-07-29"
      ]
     },
     "execution_count": 128,
     "metadata": {},
     "output_type": "execute_result"
    }
   ],
   "source": [
    "df"
   ]
  },
  {
   "cell_type": "markdown",
   "id": "e1d334ac-53d8-4b71-a4bc-a768f36f7e17",
   "metadata": {},
   "source": [
    "### Export date-stamped CSV"
   ]
  },
  {
   "cell_type": "code",
   "execution_count": 129,
   "id": "9a72623c-153c-4001-9baf-5fcb36bb8bc6",
   "metadata": {},
   "outputs": [],
   "source": [
    "df.to_csv(f\"raw/los-angeles/{date}.csv\", index=False)"
   ]
  }
 ],
 "metadata": {
  "kernelspec": {
   "display_name": "Python 3 (ipykernel)",
   "language": "python",
   "name": "python3"
  },
  "language_info": {
   "codemirror_mode": {
    "name": "ipython",
    "version": 3
   },
   "file_extension": ".py",
   "mimetype": "text/x-python",
   "name": "python",
   "nbconvert_exporter": "python",
   "pygments_lexer": "ipython3",
   "version": "3.9.13"
  }
 },
 "nbformat": 4,
 "nbformat_minor": 5
}
