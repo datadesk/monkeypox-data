{
 "cells": [
  {
   "cell_type": "code",
   "execution_count": 23,
   "id": "02fa9d30-708e-4afc-818e-12678f4b9f16",
   "metadata": {},
   "outputs": [],
   "source": [
    "import requests\n",
    "import pandas as pd\n",
    "from bs4 import BeautifulSoup\n",
    "import re\n",
    "import json\n",
    "from datetime import datetime"
   ]
  },
  {
   "cell_type": "markdown",
   "id": "8cc585d1-2cee-4423-b09e-9b863d9adba6",
   "metadata": {},
   "source": [
    "### Download"
   ]
  },
  {
   "cell_type": "code",
   "execution_count": 24,
   "id": "4fbd18f6-78bf-49ca-9722-76350e702092",
   "metadata": {},
   "outputs": [],
   "source": [
    "url = 'http://publichealth.lacounty.gov/media/monkeypox/maps/first/mpx-spamap-widget.html'"
   ]
  },
  {
   "cell_type": "code",
   "execution_count": 25,
   "id": "0adcfd5d-08e8-4670-87b1-6018213eaff4",
   "metadata": {},
   "outputs": [],
   "source": [
    "page = requests.get(url, verify=False)"
   ]
  },
  {
   "cell_type": "markdown",
   "id": "93aae559-f384-4bbe-a974-083817740cfc",
   "metadata": {},
   "source": [
    "### Parse"
   ]
  },
  {
   "cell_type": "code",
   "execution_count": 26,
   "id": "003e4608-4b98-4e0f-8644-c7efa569dc2e",
   "metadata": {},
   "outputs": [],
   "source": [
    "soup = BeautifulSoup(page.content, \"html.parser\")"
   ]
  },
  {
   "cell_type": "code",
   "execution_count": 27,
   "id": "6168e90d-056e-412e-92c3-c79544c8664f",
   "metadata": {},
   "outputs": [],
   "source": [
    "for elem in soup(text=re.compile(r\"Case Counts\")):\n",
    "    script_content = elem"
   ]
  },
  {
   "cell_type": "code",
   "execution_count": 28,
   "id": "1eb65962-7925-4c36-8b1f-fd37f064153e",
   "metadata": {},
   "outputs": [],
   "source": [
    "data = json.loads(script_content)"
   ]
  },
  {
   "cell_type": "code",
   "execution_count": 7,
   "id": "21ba9e48-e068-4ff4-8955-accea84d913f",
   "metadata": {},
   "outputs": [],
   "source": [
    "regions_list = data[\"x\"][\"calls\"][1][\"args\"][4]"
   ]
  },
  {
   "cell_type": "code",
   "execution_count": 98,
   "id": "6cbcf8b4-5051-4842-bd00-c38e1feb06dc",
   "metadata": {},
   "outputs": [
    {
     "name": "stdout",
     "output_type": "stream",
     "text": [
      "addProviderTiles\n",
      "addPolygons\n",
      "addPolygons\n",
      "addMarkers\n",
      "addLegend\n",
      "addMarkers\n",
      "addControl\n",
      "addLayersControl\n"
     ]
    }
   ],
   "source": [
    "for item in data['x']['calls']:\n",
    "    print(item['method'])"
   ]
  },
  {
   "cell_type": "code",
   "execution_count": 117,
   "id": "b96d9238-db6e-406d-9062-23e67522f905",
   "metadata": {},
   "outputs": [],
   "source": [
    "lats = data['x']['calls'][5]['args'][0]"
   ]
  },
  {
   "cell_type": "code",
   "execution_count": 118,
   "id": "cb514b05-9697-44da-8f3b-a7b68a05bc8a",
   "metadata": {},
   "outputs": [],
   "source": [
    "longs = data['x']['calls'][5]['args'][1]"
   ]
  },
  {
   "cell_type": "code",
   "execution_count": 125,
   "id": "2fe3704b-1967-4b55-a86e-472909b745da",
   "metadata": {},
   "outputs": [],
   "source": [
    "indeces = data['x']['calls'][5]['args'][2]['iconUrl']['index']"
   ]
  },
  {
   "cell_type": "code",
   "execution_count": 145,
   "id": "9d43af37-2755-4af7-8d77-236136b1d135",
   "metadata": {},
   "outputs": [],
   "source": [
    "dict_list = []\n",
    "for idx, lat in enumerate(lats):\n",
    "    d = dict(\n",
    "        lat = lat,\n",
    "        long = longs[idx],\n",
    "        symbol = indeces[idx],\n",
    "    )\n",
    "    dict_list.append(d)"
   ]
  },
  {
   "cell_type": "code",
   "execution_count": 146,
   "id": "8c56319f-4516-44e9-b8a1-b863487b3c54",
   "metadata": {},
   "outputs": [
    {
     "data": {
      "text/html": [
       "<div>\n",
       "<style scoped>\n",
       "    .dataframe tbody tr th:only-of-type {\n",
       "        vertical-align: middle;\n",
       "    }\n",
       "\n",
       "    .dataframe tbody tr th {\n",
       "        vertical-align: top;\n",
       "    }\n",
       "\n",
       "    .dataframe thead th {\n",
       "        text-align: right;\n",
       "    }\n",
       "</style>\n",
       "<table border=\"1\" class=\"dataframe\">\n",
       "  <thead>\n",
       "    <tr style=\"text-align: right;\">\n",
       "      <th></th>\n",
       "      <th>lat</th>\n",
       "      <th>long</th>\n",
       "      <th>symbol</th>\n",
       "    </tr>\n",
       "  </thead>\n",
       "  <tbody>\n",
       "    <tr>\n",
       "      <th>0</th>\n",
       "      <td>34.036970</td>\n",
       "      <td>-118.265280</td>\n",
       "      <td>0</td>\n",
       "    </tr>\n",
       "    <tr>\n",
       "      <th>1</th>\n",
       "      <td>34.101943</td>\n",
       "      <td>-118.296456</td>\n",
       "      <td>0</td>\n",
       "    </tr>\n",
       "    <tr>\n",
       "      <th>2</th>\n",
       "      <td>34.103816</td>\n",
       "      <td>-118.309471</td>\n",
       "      <td>0</td>\n",
       "    </tr>\n",
       "    <tr>\n",
       "      <th>3</th>\n",
       "      <td>34.160435</td>\n",
       "      <td>-118.448495</td>\n",
       "      <td>0</td>\n",
       "    </tr>\n",
       "    <tr>\n",
       "      <th>4</th>\n",
       "      <td>34.067381</td>\n",
       "      <td>-118.376628</td>\n",
       "      <td>0</td>\n",
       "    </tr>\n",
       "    <tr>\n",
       "      <th>...</th>\n",
       "      <td>...</td>\n",
       "      <td>...</td>\n",
       "      <td>...</td>\n",
       "    </tr>\n",
       "    <tr>\n",
       "      <th>97</th>\n",
       "      <td>33.881479</td>\n",
       "      <td>-118.288525</td>\n",
       "      <td>0</td>\n",
       "    </tr>\n",
       "    <tr>\n",
       "      <th>98</th>\n",
       "      <td>33.949231</td>\n",
       "      <td>-118.352975</td>\n",
       "      <td>0</td>\n",
       "    </tr>\n",
       "    <tr>\n",
       "      <th>99</th>\n",
       "      <td>34.073439</td>\n",
       "      <td>-118.379923</td>\n",
       "      <td>0</td>\n",
       "    </tr>\n",
       "    <tr>\n",
       "      <th>100</th>\n",
       "      <td>34.076216</td>\n",
       "      <td>-118.373378</td>\n",
       "      <td>0</td>\n",
       "    </tr>\n",
       "    <tr>\n",
       "      <th>101</th>\n",
       "      <td>34.101823</td>\n",
       "      <td>-118.321473</td>\n",
       "      <td>0</td>\n",
       "    </tr>\n",
       "  </tbody>\n",
       "</table>\n",
       "<p>102 rows × 3 columns</p>\n",
       "</div>"
      ],
      "text/plain": [
       "           lat        long  symbol\n",
       "0    34.036970 -118.265280       0\n",
       "1    34.101943 -118.296456       0\n",
       "2    34.103816 -118.309471       0\n",
       "3    34.160435 -118.448495       0\n",
       "4    34.067381 -118.376628       0\n",
       "..         ...         ...     ...\n",
       "97   33.881479 -118.288525       0\n",
       "98   33.949231 -118.352975       0\n",
       "99   34.073439 -118.379923       0\n",
       "100  34.076216 -118.373378       0\n",
       "101  34.101823 -118.321473       0\n",
       "\n",
       "[102 rows x 3 columns]"
      ]
     },
     "execution_count": 146,
     "metadata": {},
     "output_type": "execute_result"
    }
   ],
   "source": [
    "pd.DataFrame(dict_list)"
   ]
  },
  {
   "cell_type": "code",
   "execution_count": 8,
   "id": "3eb53ddc-cb36-41d5-9c75-a9299de9de54",
   "metadata": {},
   "outputs": [],
   "source": [
    "dict_list = []\n",
    "TAG_RE = re.compile(r\"<[^>]+>\")\n",
    "for z in regions_list:\n",
    "    split = z.split(\"<br>\")\n",
    "    area = TAG_RE.sub(\"\", str(split[0]))\n",
    "    spa = area[:7]\n",
    "    region_name = re.split('[0-9]', area)[1].strip()\n",
    "    cases = TAG_RE.sub(\"\", str(split[1]))\n",
    "    cases_clean = cases.split(':')[1].strip()\n",
    "    \n",
    "    d = dict(\n",
    "        spa=spa,\n",
    "        region=region_name,\n",
    "        confirmed_cases=cases_clean\n",
    "    )\n",
    "    dict_list.append(d)"
   ]
  },
  {
   "cell_type": "code",
   "execution_count": 9,
   "id": "01692b25-0dd9-40f8-bd7b-122ca3f45b4c",
   "metadata": {},
   "outputs": [],
   "source": [
    "df = pd.DataFrame(dict_list)"
   ]
  },
  {
   "cell_type": "markdown",
   "id": "162a493e-1d06-4b36-ae0e-7706676f5aee",
   "metadata": {},
   "source": [
    "### Get date"
   ]
  },
  {
   "cell_type": "code",
   "execution_count": 10,
   "id": "a3e544f3-a8ed-4cfa-8712-c5387f647855",
   "metadata": {},
   "outputs": [],
   "source": [
    "dashboard_url = 'http://publichealth.lacounty.gov/media/monkeypox/data/index.htm'"
   ]
  },
  {
   "cell_type": "code",
   "execution_count": 11,
   "id": "188d83d5-9c61-4252-a954-e7e7859b49bc",
   "metadata": {},
   "outputs": [],
   "source": [
    "dash_page = requests.get(dashboard_url, verify=False)"
   ]
  },
  {
   "cell_type": "code",
   "execution_count": 12,
   "id": "693e95e4-00c3-4b60-ae3f-3dcabf079884",
   "metadata": {},
   "outputs": [],
   "source": [
    "dash_soup = BeautifulSoup(dash_page.content, \"html.parser\")"
   ]
  },
  {
   "cell_type": "code",
   "execution_count": 13,
   "id": "18dc9130-007d-4fba-9b67-6255c30cdf17",
   "metadata": {},
   "outputs": [],
   "source": [
    "content = dash_soup.find(\"div\", id=\"content\")"
   ]
  },
  {
   "cell_type": "code",
   "execution_count": 14,
   "id": "159f90c4-2e36-425d-8394-f1102e6d7ae2",
   "metadata": {},
   "outputs": [],
   "source": [
    "for elem in content(text=re.compile(r\"Updated on Fridays. Data as of\")):\n",
    "    date_text = elem"
   ]
  },
  {
   "cell_type": "code",
   "execution_count": 15,
   "id": "65c45e4f-4bfd-4ff0-9eb4-3d0d9a332a01",
   "metadata": {},
   "outputs": [
    {
     "data": {
      "text/plain": [
       "'August 5, 2022'"
      ]
     },
     "execution_count": 15,
     "metadata": {},
     "output_type": "execute_result"
    }
   ],
   "source": [
    "date_str = date_text.strip(\"Updated on Fridays. Data as of \")\n",
    "date_str"
   ]
  },
  {
   "cell_type": "code",
   "execution_count": 16,
   "id": "82976f40-a2f3-4c30-9c1b-98a5aee7d437",
   "metadata": {},
   "outputs": [],
   "source": [
    "date = pd.to_datetime(date_str).date()"
   ]
  },
  {
   "cell_type": "code",
   "execution_count": 17,
   "id": "24a1c47f-5efa-46c3-923e-f40f7defc0e2",
   "metadata": {},
   "outputs": [],
   "source": [
    "df['date'] = date"
   ]
  },
  {
   "cell_type": "code",
   "execution_count": 18,
   "id": "b08ae76a-92eb-4531-9229-cfe386ccf0eb",
   "metadata": {},
   "outputs": [],
   "source": [
    "df[\"confirmed_cases\"] = df[\"confirmed_cases\"].astype(int)"
   ]
  },
  {
   "cell_type": "code",
   "execution_count": 19,
   "id": "9062b391-5805-489b-a253-705eaade45bf",
   "metadata": {},
   "outputs": [
    {
     "data": {
      "text/html": [
       "<div>\n",
       "<style scoped>\n",
       "    .dataframe tbody tr th:only-of-type {\n",
       "        vertical-align: middle;\n",
       "    }\n",
       "\n",
       "    .dataframe tbody tr th {\n",
       "        vertical-align: top;\n",
       "    }\n",
       "\n",
       "    .dataframe thead th {\n",
       "        text-align: right;\n",
       "    }\n",
       "</style>\n",
       "<table border=\"1\" class=\"dataframe\">\n",
       "  <thead>\n",
       "    <tr style=\"text-align: right;\">\n",
       "      <th></th>\n",
       "      <th>spa</th>\n",
       "      <th>region</th>\n",
       "      <th>confirmed_cases</th>\n",
       "      <th>date</th>\n",
       "    </tr>\n",
       "  </thead>\n",
       "  <tbody>\n",
       "    <tr>\n",
       "      <th>0</th>\n",
       "      <td>SPA 1</td>\n",
       "      <td>Antelope Valley</td>\n",
       "      <td>8</td>\n",
       "      <td>2022-08-05</td>\n",
       "    </tr>\n",
       "    <tr>\n",
       "      <th>1</th>\n",
       "      <td>SPA 2</td>\n",
       "      <td>San Fernando</td>\n",
       "      <td>76</td>\n",
       "      <td>2022-08-05</td>\n",
       "    </tr>\n",
       "    <tr>\n",
       "      <th>2</th>\n",
       "      <td>SPA 3</td>\n",
       "      <td>San Gabriel</td>\n",
       "      <td>17</td>\n",
       "      <td>2022-08-05</td>\n",
       "    </tr>\n",
       "    <tr>\n",
       "      <th>3</th>\n",
       "      <td>SPA 4</td>\n",
       "      <td>Metro</td>\n",
       "      <td>259</td>\n",
       "      <td>2022-08-05</td>\n",
       "    </tr>\n",
       "    <tr>\n",
       "      <th>4</th>\n",
       "      <td>SPA 5</td>\n",
       "      <td>West</td>\n",
       "      <td>27</td>\n",
       "      <td>2022-08-05</td>\n",
       "    </tr>\n",
       "    <tr>\n",
       "      <th>5</th>\n",
       "      <td>SPA 6</td>\n",
       "      <td>South</td>\n",
       "      <td>40</td>\n",
       "      <td>2022-08-05</td>\n",
       "    </tr>\n",
       "    <tr>\n",
       "      <th>6</th>\n",
       "      <td>SPA 7</td>\n",
       "      <td>East</td>\n",
       "      <td>37</td>\n",
       "      <td>2022-08-05</td>\n",
       "    </tr>\n",
       "    <tr>\n",
       "      <th>7</th>\n",
       "      <td>SPA 8</td>\n",
       "      <td>South Bay</td>\n",
       "      <td>31</td>\n",
       "      <td>2022-08-05</td>\n",
       "    </tr>\n",
       "  </tbody>\n",
       "</table>\n",
       "</div>"
      ],
      "text/plain": [
       "       spa           region  confirmed_cases        date\n",
       "0   SPA 1   Antelope Valley                8  2022-08-05\n",
       "1   SPA 2      San Fernando               76  2022-08-05\n",
       "2   SPA 3       San Gabriel               17  2022-08-05\n",
       "3   SPA 4             Metro              259  2022-08-05\n",
       "4   SPA 5              West               27  2022-08-05\n",
       "5   SPA 6             South               40  2022-08-05\n",
       "6   SPA 7              East               37  2022-08-05\n",
       "7   SPA 8         South Bay               31  2022-08-05"
      ]
     },
     "execution_count": 19,
     "metadata": {},
     "output_type": "execute_result"
    }
   ],
   "source": [
    "df"
   ]
  },
  {
   "cell_type": "markdown",
   "id": "e1d334ac-53d8-4b71-a4bc-a768f36f7e17",
   "metadata": {},
   "source": [
    "### Export date-stamped CSV"
   ]
  },
  {
   "cell_type": "code",
   "execution_count": 20,
   "id": "9a72623c-153c-4001-9baf-5fcb36bb8bc6",
   "metadata": {},
   "outputs": [],
   "source": [
    "df.to_csv(f\"raw/los-angeles/{date}.csv\", index=False)"
   ]
  },
  {
   "cell_type": "code",
   "execution_count": 22,
   "id": "4293d541-eb3a-48f6-b54d-f871fb9edd62",
   "metadata": {},
   "outputs": [],
   "source": [
    "df.to_csv(f\"raw/los-angeles/latest.csv\", index=False)"
   ]
  }
 ],
 "metadata": {
  "kernelspec": {
   "display_name": "Python 3 (ipykernel)",
   "language": "python",
   "name": "python3"
  },
  "language_info": {
   "codemirror_mode": {
    "name": "ipython",
    "version": 3
   },
   "file_extension": ".py",
   "mimetype": "text/x-python",
   "name": "python",
   "nbconvert_exporter": "python",
   "pygments_lexer": "ipython3",
   "version": "3.9.13"
  }
 },
 "nbformat": 4,
 "nbformat_minor": 5
}
