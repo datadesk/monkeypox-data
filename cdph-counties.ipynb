{
 "cells": [
  {
   "cell_type": "code",
   "execution_count": 1,
   "id": "8830c7f0-8b96-4ac4-9ebc-40d4f4d88ef3",
   "metadata": {},
   "outputs": [],
   "source": [
    "# \n",
    "# import json\n",
    "# from datetime import datetime\n",
    "import re\n",
    "import requests\n",
    "import pandas as pd\n",
    "from bs4 import BeautifulSoup"
   ]
  },
  {
   "cell_type": "markdown",
   "id": "9db5cee5-6f08-4672-ad16-85f34f454b89",
   "metadata": {},
   "source": [
    "### Download the webpage"
   ]
  },
  {
   "cell_type": "code",
   "execution_count": 2,
   "id": "28507ce6-3981-4fe0-b536-e90b6febcbdd",
   "metadata": {},
   "outputs": [],
   "source": [
    "url = \"https://www.cdph.ca.gov/Programs/CID/DCDC/Pages/Monkeypox-Data.aspx\""
   ]
  },
  {
   "cell_type": "code",
   "execution_count": 3,
   "id": "59b24f27-b9a0-44fd-a4c4-1a10a0963475",
   "metadata": {},
   "outputs": [],
   "source": [
    "page = requests.get(url)"
   ]
  },
  {
   "cell_type": "markdown",
   "id": "306a7a49-c274-4133-80b6-f5a45c7fa9fc",
   "metadata": {},
   "source": [
    "### Parse the webpage"
   ]
  },
  {
   "cell_type": "code",
   "execution_count": 4,
   "id": "6906eaac-febc-4325-a48d-e1abebc68da5",
   "metadata": {},
   "outputs": [],
   "source": [
    "soup = BeautifulSoup( page.content, 'html.parser' )"
   ]
  },
  {
   "cell_type": "code",
   "execution_count": 5,
   "id": "5026853c-789c-4b06-bb3c-cfe069aec207",
   "metadata": {},
   "outputs": [],
   "source": [
    "content = soup.find(\"div\", id=\"DeltaPlaceHolderMain\")"
   ]
  },
  {
   "cell_type": "code",
   "execution_count": 6,
   "id": "a88f434e-fd67-460d-910b-221eba22a8e0",
   "metadata": {},
   "outputs": [],
   "source": [
    "tables = content.find_all(\"table\")"
   ]
  },
  {
   "cell_type": "code",
   "execution_count": 7,
   "id": "4effe5c3-9994-41fe-9dd8-9dfe0228a871",
   "metadata": {},
   "outputs": [
    {
     "data": {
      "text/plain": [
       "8"
      ]
     },
     "execution_count": 7,
     "metadata": {},
     "output_type": "execute_result"
    }
   ],
   "source": [
    "len(tables)"
   ]
  },
  {
   "cell_type": "code",
   "execution_count": 8,
   "id": "2a95a57e-85fd-4a88-a527-92a5fbc5aab3",
   "metadata": {},
   "outputs": [
    {
     "data": {
      "text/plain": [
       "'By Local\\r\\n  Health Jurisdiction'"
      ]
     },
     "execution_count": 8,
     "metadata": {},
     "output_type": "execute_result"
    }
   ],
   "source": [
    "tables[2].find( \"th\" ).find(\"strong\").text"
   ]
  },
  {
   "cell_type": "code",
   "execution_count": 37,
   "id": "1ac57287",
   "metadata": {},
   "outputs": [],
   "source": [
    "for tag in content.find_all(text=re.compile('Jurisdiction')):\n",
    "    table = tag.findParent(\"table\")"
   ]
  },
  {
   "cell_type": "code",
   "execution_count": 38,
   "id": "bd70a4a7-011f-4125-9009-d2fa7a66c71e",
   "metadata": {},
   "outputs": [],
   "source": [
    "def safetxt(element):\n",
    "    v = element.text.strip()\n",
    "    v = v.replace(\"\\u200b\", \"\")\n",
    "    return v"
   ]
  },
  {
   "cell_type": "code",
   "execution_count": 39,
   "id": "013fbe9c-d591-4102-a22d-6c3d5230f722",
   "metadata": {},
   "outputs": [],
   "source": [
    "def safenumber(element):\n",
    "    v = safetxt(element)\n",
    "    v = v.replace(\",\", \"\")\n",
    "    v = v.replace(\" \", \"\")\n",
    "    return v"
   ]
  },
  {
   "cell_type": "code",
   "execution_count": 52,
   "id": "47bf04d7-708c-466c-b13a-67abfcf9bcd0",
   "metadata": {},
   "outputs": [
    {
     "name": "stdout",
     "output_type": "stream",
     "text": [
      "list index out of range\n"
     ]
    }
   ],
   "source": [
    "dict_list = []\n",
    "\n",
    "for row in table.find_all(\"tr\"):\n",
    "    cell_list = row.find_all(\"td\")\n",
    "    #print(cell_list)\n",
    "    try:\n",
    "        d = dict(\n",
    "            lhj_name = safetxt( cell_list[0] ),\n",
    "            cases = safenumber( cell_list[1] )        \n",
    "        )\n",
    "        dict_list.append(d)\n",
    "    except Exception as e: \n",
    "        print(e)"
   ]
  },
  {
   "cell_type": "markdown",
   "id": "047c3711-a167-4fad-af57-54c5e24cf6f6",
   "metadata": {},
   "source": [
    "### Parsing date"
   ]
  },
  {
   "cell_type": "code",
   "execution_count": 79,
   "id": "63610019-a9bd-477d-ad69-2ff8f0121d2e",
   "metadata": {},
   "outputs": [],
   "source": [
    "soup = BeautifulSoup( page.content, 'html.parser' )"
   ]
  },
  {
   "cell_type": "code",
   "execution_count": 86,
   "id": "f59905b3-a7ab-43f6-aea0-dbcaa5235366",
   "metadata": {},
   "outputs": [],
   "source": [
    "content_date = soup.find_all(\"head\")"
   ]
  },
  {
   "cell_type": "code",
   "execution_count": 113,
   "id": "184f9b18-6e7e-476f-bf4d-ddf9e760f61c",
   "metadata": {},
   "outputs": [],
   "source": [
    "#print(content_date)"
   ]
  },
  {
   "cell_type": "code",
   "execution_count": null,
   "id": "b19e97bb-f5d2-414b-806c-18c157b0a1e3",
   "metadata": {},
   "outputs": [],
   "source": [
    "\"\"\"-- Global site tag (gtag.js) - Google Analytics \n",
    "        <script async src=\"https://www.googletagmanager.com/gtag/js?id=UA-109056085-1\"></script>\n",
    "        <script>\n",
    "            window.dataLayer = window.dataLayer || [];\n",
    "            function gtag() { dataLayer.push(arguments); }\n",
    "            gtag('js', new Date());\n",
    "            \n",
    "            gtag('config', 'UA-109056085-1');\n",
    "        </script>-->\"\"\""
   ]
  },
  {
   "cell_type": "code",
   "execution_count": 111,
   "id": "141ea9d6-f89a-4589-9ca2-08222b13aa46",
   "metadata": {},
   "outputs": [],
   "source": [
    "date_one = soup.find('script async src=\"https://www.googletagmanager.com/gtag/js?id=UA-109056085-1\"')"
   ]
  },
  {
   "cell_type": "code",
   "execution_count": 112,
   "id": "75985115-4111-4127-a032-85a18ebf5eab",
   "metadata": {},
   "outputs": [
    {
     "name": "stdout",
     "output_type": "stream",
     "text": [
      "None\n"
     ]
    }
   ],
   "source": [
    "print(date_one)"
   ]
  },
  {
   "cell_type": "markdown",
   "id": "6dac120f-726e-4e40-81bb-328a032344c6",
   "metadata": {},
   "source": [
    "### Convert to dataframe"
   ]
  },
  {
   "cell_type": "code",
   "execution_count": 46,
   "id": "57ba6569-ae23-4b3f-b91e-518460a38177",
   "metadata": {},
   "outputs": [],
   "source": [
    "df = pd.DataFrame(dict_list)"
   ]
  },
  {
   "cell_type": "markdown",
   "id": "32a25d75-27d9-409c-8d31-17b56cb4e3c3",
   "metadata": {},
   "source": [
    "### Export"
   ]
  },
  {
   "cell_type": "code",
   "execution_count": 49,
   "id": "e557bb37-a236-4375-961c-131f4bc7f63b",
   "metadata": {},
   "outputs": [],
   "source": [
    "df.to_csv(\"raw/cdph/latest.csv\", index=False)"
   ]
  },
  {
   "cell_type": "code",
   "execution_count": null,
   "id": "769a14b4-66e6-4f02-baba-c302191b568c",
   "metadata": {},
   "outputs": [],
   "source": []
  }
 ],
 "metadata": {
  "kernelspec": {
   "display_name": "Python 3 (ipykernel)",
   "language": "python",
   "name": "python3"
  },
  "language_info": {
   "codemirror_mode": {
    "name": "ipython",
    "version": 3
   },
   "file_extension": ".py",
   "mimetype": "text/x-python",
   "name": "python",
   "nbconvert_exporter": "python",
   "pygments_lexer": "ipython3",
   "version": "3.10.5"
  }
 },
 "nbformat": 4,
 "nbformat_minor": 5
}
