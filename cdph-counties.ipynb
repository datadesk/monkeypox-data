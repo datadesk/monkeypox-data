{
 "cells": [
  {
   "cell_type": "code",
   "execution_count": 1,
   "id": "8830c7f0-8b96-4ac4-9ebc-40d4f4d88ef3",
   "metadata": {},
   "outputs": [],
   "source": [
    "# \n",
    "# import json\n",
    "# from datetime import datetime\n",
    "import re\n",
    "import requests\n",
    "import pandas as pd\n",
    "from bs4 import BeautifulSoup"
   ]
  },
  {
   "cell_type": "markdown",
   "id": "9db5cee5-6f08-4672-ad16-85f34f454b89",
   "metadata": {},
   "source": [
    "### Download the webpage"
   ]
  },
  {
   "cell_type": "code",
   "execution_count": 2,
   "id": "28507ce6-3981-4fe0-b536-e90b6febcbdd",
   "metadata": {},
   "outputs": [],
   "source": [
    "url = \"https://www.cdph.ca.gov/Programs/CID/DCDC/Pages/Monkeypox-Data.aspx\""
   ]
  },
  {
   "cell_type": "code",
   "execution_count": 3,
   "id": "59b24f27-b9a0-44fd-a4c4-1a10a0963475",
   "metadata": {},
   "outputs": [],
   "source": [
    "page = requests.get(url)"
   ]
  },
  {
   "cell_type": "markdown",
   "id": "306a7a49-c274-4133-80b6-f5a45c7fa9fc",
   "metadata": {},
   "source": [
    "### Parse the webpage"
   ]
  },
  {
   "cell_type": "code",
   "execution_count": 4,
   "id": "6906eaac-febc-4325-a48d-e1abebc68da5",
   "metadata": {},
   "outputs": [],
   "source": [
    "soup = BeautifulSoup( page.content, 'html.parser' )"
   ]
  },
  {
   "cell_type": "code",
   "execution_count": 5,
   "id": "5026853c-789c-4b06-bb3c-cfe069aec207",
   "metadata": {},
   "outputs": [],
   "source": [
    "content = soup.find(\"div\", id=\"DeltaPlaceHolderMain\")"
   ]
  },
  {
   "cell_type": "code",
   "execution_count": 6,
   "id": "a88f434e-fd67-460d-910b-221eba22a8e0",
   "metadata": {},
   "outputs": [],
   "source": [
    "tables = content.find_all(\"table\")"
   ]
  },
  {
   "cell_type": "code",
   "execution_count": 7,
   "id": "4effe5c3-9994-41fe-9dd8-9dfe0228a871",
   "metadata": {},
   "outputs": [
    {
     "data": {
      "text/plain": [
       "8"
      ]
     },
     "execution_count": 7,
     "metadata": {},
     "output_type": "execute_result"
    }
   ],
   "source": [
    "len(tables)"
   ]
  },
  {
   "cell_type": "code",
   "execution_count": 8,
   "id": "2a95a57e-85fd-4a88-a527-92a5fbc5aab3",
   "metadata": {},
   "outputs": [
    {
     "data": {
      "text/plain": [
       "'By Local\\r\\n  Health Jurisdiction'"
      ]
     },
     "execution_count": 8,
     "metadata": {},
     "output_type": "execute_result"
    }
   ],
   "source": [
    "tables[2].find( \"th\" ).find(\"strong\").text"
   ]
  },
  {
   "cell_type": "code",
   "execution_count": 37,
   "id": "1ac57287",
   "metadata": {},
   "outputs": [],
   "source": [
    "for tag in content.find_all(text=re.compile('Jurisdiction')):\n",
    "    table = tag.findParent(\"table\")"
   ]
  },
  {
   "cell_type": "code",
   "execution_count": 38,
   "id": "bd70a4a7-011f-4125-9009-d2fa7a66c71e",
   "metadata": {},
   "outputs": [],
   "source": [
    "def safetxt(element):\n",
    "    v = element.text.strip()\n",
    "    v = v.replace(\"\\u200b\", \"\")\n",
    "    return v"
   ]
  },
  {
   "cell_type": "code",
   "execution_count": 39,
   "id": "013fbe9c-d591-4102-a22d-6c3d5230f722",
   "metadata": {},
   "outputs": [],
   "source": [
    "def safenumber(element):\n",
    "    v = safetxt(element)\n",
    "    v = v.replace(\",\", \"\")\n",
    "    v = v.replace(\" \", \"\")\n",
    "    return v"
   ]
  },
  {
   "cell_type": "code",
   "execution_count": 52,
   "id": "47bf04d7-708c-466c-b13a-67abfcf9bcd0",
   "metadata": {},
   "outputs": [
    {
     "name": "stdout",
     "output_type": "stream",
     "text": [
      "list index out of range\n"
     ]
    }
   ],
   "source": [
    "dict_list = []\n",
    "\n",
    "for row in table.find_all(\"tr\"):\n",
    "    cell_list = row.find_all(\"td\")\n",
    "    #print(cell_list)\n",
    "    try:\n",
    "        d = dict(\n",
    "            lhj_name = safetxt( cell_list[0] ),\n",
    "            cases = safenumber( cell_list[1] )        \n",
    "        )\n",
    "        dict_list.append(d)\n",
    "    except Exception as e: \n",
    "        print(e)"
   ]
  },
  {
   "cell_type": "markdown",
   "id": "047c3711-a167-4fad-af57-54c5e24cf6f6",
   "metadata": {},
   "source": [
    "### Parsing date"
   ]
  },
  {
   "cell_type": "code",
   "execution_count": 79,
   "id": "63610019-a9bd-477d-ad69-2ff8f0121d2e",
   "metadata": {},
   "outputs": [],
   "source": [
    "soup = BeautifulSoup( page.content, 'html.parser' )"
   ]
  },
  {
   "cell_type": "code",
   "execution_count": 125,
   "id": "f59905b3-a7ab-43f6-aea0-dbcaa5235366",
   "metadata": {},
   "outputs": [],
   "source": [
    "date = soup.find_all(\"p\")"
   ]
  },
  {
   "cell_type": "code",
   "execution_count": 126,
   "id": "184f9b18-6e7e-476f-bf4d-ddf9e760f61c",
   "metadata": {},
   "outputs": [
    {
     "name": "stdout",
     "output_type": "stream",
     "text": [
      "[<p></p>, <p style=\"line-height: 1.6;\"><span style=\"color: #0072c6; font-size: 36px; font-weight: 700; background-color: transparent;\">Monkeypox Data in California </span><br/></p>, <p style=\"line-height: 1.6;\"><span class=\"ms-rteStyle-Emphasis\">Data are updated on Tuesdays and Thursdays. Last updated August 4, 2022.</span></p>, <p></p>, <p style=\"line-height: 1.6;\"><br/></p>, <p></p>, <p><br/></p>, <p><br/></p>, <p><br/></p>, <p></p>, <p>\n",
      "                                        PO Box 997377<br/>\n",
      "                                        MS 0500<br/>\n",
      "                                        Sacramento, CA 95899-7377<br/>\n",
      "</p>, <p>\n",
      "<strong>For General Public Information:</strong><br/>\n",
      "<span>(916) 558-1784</span>\n",
      "</p>, <p>\n",
      "<strong>COVID 19 Information Line:</strong><br/>\n",
      "<!-- <span>1-833-544-2374 </span> -->\n",
      "<span>1-833-4CA4ALL</span><br/>\n",
      "<span>(1-833-422-4255)<span>\n",
      "</span></span></p>]\n"
     ]
    }
   ],
   "source": [
    "print(date)"
   ]
  },
  {
   "cell_type": "code",
   "execution_count": null,
   "id": "e9426a80-4a87-466b-ac80-c5654f6dcd96",
   "metadata": {},
   "outputs": [
    {
     "name": "stderr",
     "output_type": "stream",
     "text": [
      "IOPub data rate exceeded.\n",
      "The Jupyter server will temporarily stop sending output\n",
      "to the client in order to avoid crashing it.\n",
      "To change this limit, set the config variable\n",
      "`--ServerApp.iopub_data_rate_limit`.\n",
      "\n",
      "Current values:\n",
      "ServerApp.iopub_data_rate_limit=1000000.0 (bytes/sec)\n",
      "ServerApp.rate_limit_window=3.0 (secs)\n",
      "\n"
     ]
    }
   ],
   "source": [
    "spans = soup.find_all('span', attrs={'class':'ms-rteStyle-Emphasis'})\n",
    "for span in spans:\n",
    "    spans.append(str)\n",
    "    print(spans)"
   ]
  },
  {
   "cell_type": "code",
   "execution_count": null,
   "id": "b72b6e38-e946-4843-ab62-3d994225edae",
   "metadata": {},
   "outputs": [],
   "source": [
    "type(spans)"
   ]
  },
  {
   "cell_type": "code",
   "execution_count": 187,
   "id": "782b9bca-0a21-47c0-adae-f4ab2a481766",
   "metadata": {},
   "outputs": [
    {
     "name": "stdout",
     "output_type": "stream",
     "text": [
      "[<span class=\"ms-rteStyle-Emphasis\">Data are updated on Tuesdays and Thursdays. Last updated August 4, 2022.</span>]\n"
     ]
    }
   ],
   "source": [
    "print(spans)"
   ]
  },
  {
   "cell_type": "code",
   "execution_count": 198,
   "id": "adb0c23b-88c0-4194-a3f7-e4de272f58b4",
   "metadata": {},
   "outputs": [
    {
     "ename": "AttributeError",
     "evalue": "ResultSet object has no attribute 'strip'. You're probably treating a list of elements like a single element. Did you call find_all() when you meant to call find()?",
     "output_type": "error",
     "traceback": [
      "\u001b[0;31m---------------------------------------------------------------------------\u001b[0m",
      "\u001b[0;31mAttributeError\u001b[0m                            Traceback (most recent call last)",
      "Input \u001b[0;32mIn [198]\u001b[0m, in \u001b[0;36m<cell line: 1>\u001b[0;34m()\u001b[0m\n\u001b[0;32m----> 1\u001b[0m date_final \u001b[38;5;241m=\u001b[39m soup\u001b[38;5;241m.\u001b[39mfind_all(\u001b[43mspans\u001b[49m\u001b[38;5;241;43m.\u001b[39;49m\u001b[43mstrip\u001b[49m(\u001b[38;5;124m\"\u001b[39m\u001b[38;5;124mData are updated on Tuesdays and Thursdays. Last updated\u001b[39m\u001b[38;5;124m\"\u001b[39m))\n",
      "File \u001b[0;32m/Library/Frameworks/Python.framework/Versions/3.10/lib/python3.10/site-packages/bs4/element.py:2289\u001b[0m, in \u001b[0;36mResultSet.__getattr__\u001b[0;34m(self, key)\u001b[0m\n\u001b[1;32m   2287\u001b[0m \u001b[38;5;28;01mdef\u001b[39;00m \u001b[38;5;21m__getattr__\u001b[39m(\u001b[38;5;28mself\u001b[39m, key):\n\u001b[1;32m   2288\u001b[0m     \u001b[38;5;124;03m\"\"\"Raise a helpful exception to explain a common code fix.\"\"\"\u001b[39;00m\n\u001b[0;32m-> 2289\u001b[0m     \u001b[38;5;28;01mraise\u001b[39;00m \u001b[38;5;167;01mAttributeError\u001b[39;00m(\n\u001b[1;32m   2290\u001b[0m         \u001b[38;5;124m\"\u001b[39m\u001b[38;5;124mResultSet object has no attribute \u001b[39m\u001b[38;5;124m'\u001b[39m\u001b[38;5;132;01m%s\u001b[39;00m\u001b[38;5;124m'\u001b[39m\u001b[38;5;124m. You\u001b[39m\u001b[38;5;124m'\u001b[39m\u001b[38;5;124mre probably treating a list of elements like a single element. Did you call find_all() when you meant to call find()?\u001b[39m\u001b[38;5;124m\"\u001b[39m \u001b[38;5;241m%\u001b[39m key\n\u001b[1;32m   2291\u001b[0m     )\n",
      "\u001b[0;31mAttributeError\u001b[0m: ResultSet object has no attribute 'strip'. You're probably treating a list of elements like a single element. Did you call find_all() when you meant to call find()?"
     ]
    }
   ],
   "source": [
    "date_final = soup.find_all(spans.strip(\"Data are updated on Tuesdays and Thursdays. Last updated\"))"
   ]
  },
  {
   "cell_type": "markdown",
   "id": "658350e8-9cf1-4ecc-b33c-1f9bba2fc940",
   "metadata": {},
   "source": [
    "### Isolate Date"
   ]
  },
  {
   "cell_type": "code",
   "execution_count": 183,
   "id": "89d84c88-1840-4061-ad75-04fe55789d9d",
   "metadata": {},
   "outputs": [
    {
     "data": {
      "text/plain": [
       "'years = r\\'((?:22|23)\\\\d\\\\d)\\'\\npattern = r\\'(%%s) +(%%s), *%s\\' % years\\n\\nthirties = pattern % (\\n     \"September|April|June|November\",\\n     r\\'0?[1-9]|[12]\\\\d|30\\')\\n\\nthirtyones = pattern % (\\n     \"January|March|May|July|August|October|December\",\\n     r\\'0?[1-9]|[12]\\\\d|3[01]\\')\\n\\nfours = \\'(?:%s)\\' % \\'|\\'.join(\\'%02d\\' % x for x in range(4, 100, 4))\\n\\nfeb = r\\'(February) +(?:%s|%s)\\' % (\\n     r\\'(?:(0?[1-9]|1\\\\d|2[0-8])), *%s\\' % years, # 1-28 any year\\n     r\\'(?:(29), *((?:(?:22|23)%s)|2000))\\' % fours)  # 29 leap years only\\n\\nresult = \\'|\\'.join(\\'(?:%s)\\' % x for x in (thirties, thirtyones, feb))\\nr = re.compile(result)\\nprint(result)'"
      ]
     },
     "execution_count": 183,
     "metadata": {},
     "output_type": "execute_result"
    }
   ],
   "source": [
    "\"\"\"years = r'((?:22|23)\\d\\d)'\n",
    "pattern = r'(%%s) +(%%s), *%s' % years\n",
    "\n",
    "thirties = pattern % (\n",
    "     \"September|April|June|November\",\n",
    "     r'0?[1-9]|[12]\\d|30')\n",
    "\n",
    "thirtyones = pattern % (\n",
    "     \"January|March|May|July|August|October|December\",\n",
    "     r'0?[1-9]|[12]\\d|3[01]')\n",
    "\n",
    "fours = '(?:%s)' % '|'.join('%02d' % x for x in range(4, 100, 4))\n",
    "\n",
    "feb = r'(February) +(?:%s|%s)' % (\n",
    "     r'(?:(0?[1-9]|1\\d|2[0-8])), *%s' % years, # 1-28 any year\n",
    "     r'(?:(29), *((?:(?:22|23)%s)|2000))' % fours)  # 29 leap years only\n",
    "\n",
    "result = '|'.join('(?:%s)' % x for x in (thirties, thirtyones, feb))\n",
    "r = re.compile(result)\n",
    "print(result)\"\"\""
   ]
  },
  {
   "cell_type": "code",
   "execution_count": 181,
   "id": "1f189fe8-bbc3-4870-a2e6-8fd7a2f104c1",
   "metadata": {},
   "outputs": [],
   "source": [
    "#date = span.find_all(text=r)"
   ]
  },
  {
   "cell_type": "code",
   "execution_count": 182,
   "id": "cb81886c-88be-4160-815f-aed8ca7e2a44",
   "metadata": {},
   "outputs": [
    {
     "name": "stdout",
     "output_type": "stream",
     "text": [
      "[]\n"
     ]
    }
   ],
   "source": [
    "#"
   ]
  },
  {
   "cell_type": "markdown",
   "id": "6dac120f-726e-4e40-81bb-328a032344c6",
   "metadata": {},
   "source": [
    "### Convert to dataframe"
   ]
  },
  {
   "cell_type": "code",
   "execution_count": 46,
   "id": "57ba6569-ae23-4b3f-b91e-518460a38177",
   "metadata": {},
   "outputs": [],
   "source": [
    "df = pd.DataFrame(dict_list)"
   ]
  },
  {
   "cell_type": "markdown",
   "id": "32a25d75-27d9-409c-8d31-17b56cb4e3c3",
   "metadata": {},
   "source": [
    "### Export"
   ]
  },
  {
   "cell_type": "code",
   "execution_count": 49,
   "id": "e557bb37-a236-4375-961c-131f4bc7f63b",
   "metadata": {},
   "outputs": [],
   "source": [
    "df.to_csv(\"raw/cdph/latest.csv\", index=False)"
   ]
  },
  {
   "cell_type": "code",
   "execution_count": null,
   "id": "769a14b4-66e6-4f02-baba-c302191b568c",
   "metadata": {},
   "outputs": [],
   "source": []
  }
 ],
 "metadata": {
  "kernelspec": {
   "display_name": "Python 3 (ipykernel)",
   "language": "python",
   "name": "python3"
  },
  "language_info": {
   "codemirror_mode": {
    "name": "ipython",
    "version": 3
   },
   "file_extension": ".py",
   "mimetype": "text/x-python",
   "name": "python",
   "nbconvert_exporter": "python",
   "pygments_lexer": "ipython3",
   "version": "3.10.5"
  }
 },
 "nbformat": 4,
 "nbformat_minor": 5
}
