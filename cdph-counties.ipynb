{
 "cells": [
  {
   "cell_type": "code",
   "execution_count": 1,
   "id": "8830c7f0-8b96-4ac4-9ebc-40d4f4d88ef3",
   "metadata": {},
   "outputs": [],
   "source": [
    "# \n",
    "# import json\n",
    "# from datetime import datetime\n",
    "import re\n",
    "import requests\n",
    "import pandas as pd\n",
    "from bs4 import BeautifulSoup"
   ]
  },
  {
   "cell_type": "markdown",
   "id": "9db5cee5-6f08-4672-ad16-85f34f454b89",
   "metadata": {},
   "source": [
    "### Download the webpage"
   ]
  },
  {
   "cell_type": "code",
   "execution_count": 2,
   "id": "28507ce6-3981-4fe0-b536-e90b6febcbdd",
   "metadata": {},
   "outputs": [],
   "source": [
    "url = \"https://www.cdph.ca.gov/Programs/CID/DCDC/Pages/Monkeypox-Data.aspx\""
   ]
  },
  {
   "cell_type": "code",
   "execution_count": 3,
   "id": "59b24f27-b9a0-44fd-a4c4-1a10a0963475",
   "metadata": {},
   "outputs": [],
   "source": [
    "page = requests.get(url)"
   ]
  },
  {
   "cell_type": "markdown",
   "id": "306a7a49-c274-4133-80b6-f5a45c7fa9fc",
   "metadata": {},
   "source": [
    "### Parse the webpage"
   ]
  },
  {
   "cell_type": "code",
   "execution_count": 4,
   "id": "6906eaac-febc-4325-a48d-e1abebc68da5",
   "metadata": {},
   "outputs": [],
   "source": [
    "soup = BeautifulSoup( page.content, 'html.parser' )"
   ]
  },
  {
   "cell_type": "code",
   "execution_count": 5,
   "id": "5026853c-789c-4b06-bb3c-cfe069aec207",
   "metadata": {},
   "outputs": [],
   "source": [
    "content = soup.find(\"div\", id=\"DeltaPlaceHolderMain\")"
   ]
  },
  {
   "cell_type": "code",
   "execution_count": 6,
   "id": "a88f434e-fd67-460d-910b-221eba22a8e0",
   "metadata": {},
   "outputs": [],
   "source": [
    "tables = content.find_all(\"table\")"
   ]
  },
  {
   "cell_type": "code",
   "execution_count": 7,
   "id": "4effe5c3-9994-41fe-9dd8-9dfe0228a871",
   "metadata": {},
   "outputs": [
    {
     "data": {
      "text/plain": [
       "8"
      ]
     },
     "execution_count": 7,
     "metadata": {},
     "output_type": "execute_result"
    }
   ],
   "source": [
    "len(tables)"
   ]
  },
  {
   "cell_type": "code",
   "execution_count": 8,
   "id": "2a95a57e-85fd-4a88-a527-92a5fbc5aab3",
   "metadata": {},
   "outputs": [
    {
     "data": {
      "text/plain": [
       "'By Local\\r\\n  Health Jurisdiction'"
      ]
     },
     "execution_count": 8,
     "metadata": {},
     "output_type": "execute_result"
    }
   ],
   "source": [
    "tables[2].find( \"th\" ).find(\"strong\").text"
   ]
  },
  {
   "cell_type": "code",
   "execution_count": 37,
   "id": "1ac57287",
   "metadata": {},
   "outputs": [],
   "source": [
    "for tag in content.find_all(text=re.compile('Jurisdiction')):\n",
    "    table = tag.findParent(\"table\")"
   ]
  },
  {
   "cell_type": "code",
   "execution_count": 38,
   "id": "bd70a4a7-011f-4125-9009-d2fa7a66c71e",
   "metadata": {},
   "outputs": [],
   "source": [
    "def safetxt(element):\n",
    "    v = element.text.strip()\n",
    "    v = v.replace(\"\\u200b\", \"\")\n",
    "    return v"
   ]
  },
  {
   "cell_type": "code",
   "execution_count": 39,
   "id": "013fbe9c-d591-4102-a22d-6c3d5230f722",
   "metadata": {},
   "outputs": [],
   "source": [
    "def safenumber(element):\n",
    "    v = safetxt(element)\n",
    "    v = v.replace(\",\", \"\")\n",
    "    v = v.replace(\" \", \"\")\n",
    "    return v"
   ]
  },
  {
   "cell_type": "code",
   "execution_count": 52,
   "id": "47bf04d7-708c-466c-b13a-67abfcf9bcd0",
   "metadata": {},
   "outputs": [
    {
     "name": "stdout",
     "output_type": "stream",
     "text": [
      "list index out of range\n"
     ]
    }
   ],
   "source": [
    "dict_list = []\n",
    "\n",
    "for row in table.find_all(\"tr\"):\n",
    "    cell_list = row.find_all(\"td\")\n",
    "    #print(cell_list)\n",
    "    try:\n",
    "        d = dict(\n",
    "            lhj_name = safetxt( cell_list[0] ),\n",
    "            cases = safenumber( cell_list[1] )        \n",
    "        )\n",
    "        dict_list.append(d)\n",
    "    except Exception as e: \n",
    "        print(e)"
   ]
  },
  {
   "cell_type": "markdown",
   "id": "047c3711-a167-4fad-af57-54c5e24cf6f6",
   "metadata": {},
   "source": [
    "### Parsing date"
   ]
  },
  {
   "cell_type": "code",
   "execution_count": 79,
   "id": "63610019-a9bd-477d-ad69-2ff8f0121d2e",
   "metadata": {},
   "outputs": [],
   "source": [
    "soup = BeautifulSoup( page.content, 'html.parser' )"
   ]
  },
  {
   "cell_type": "code",
   "execution_count": 125,
   "id": "f59905b3-a7ab-43f6-aea0-dbcaa5235366",
   "metadata": {},
   "outputs": [],
   "source": [
    "date = soup.find_all(\"p\")"
   ]
  },
  {
   "cell_type": "code",
   "execution_count": 126,
   "id": "184f9b18-6e7e-476f-bf4d-ddf9e760f61c",
   "metadata": {},
   "outputs": [
    {
     "name": "stdout",
     "output_type": "stream",
     "text": [
      "[<p></p>, <p style=\"line-height: 1.6;\"><span style=\"color: #0072c6; font-size: 36px; font-weight: 700; background-color: transparent;\">Monkeypox Data in California </span><br/></p>, <p style=\"line-height: 1.6;\"><span class=\"ms-rteStyle-Emphasis\">Data are updated on Tuesdays and Thursdays. Last updated August 4, 2022.</span></p>, <p></p>, <p style=\"line-height: 1.6;\"><br/></p>, <p></p>, <p><br/></p>, <p><br/></p>, <p><br/></p>, <p></p>, <p>\n",
      "                                        PO Box 997377<br/>\n",
      "                                        MS 0500<br/>\n",
      "                                        Sacramento, CA 95899-7377<br/>\n",
      "</p>, <p>\n",
      "<strong>For General Public Information:</strong><br/>\n",
      "<span>(916) 558-1784</span>\n",
      "</p>, <p>\n",
      "<strong>COVID 19 Information Line:</strong><br/>\n",
      "<!-- <span>1-833-544-2374 </span> -->\n",
      "<span>1-833-4CA4ALL</span><br/>\n",
      "<span>(1-833-422-4255)<span>\n",
      "</span></span></p>]\n"
     ]
    }
   ],
   "source": [
    "print(date)"
   ]
  },
  {
   "cell_type": "code",
   "execution_count": 136,
   "id": "e9426a80-4a87-466b-ac80-c5654f6dcd96",
   "metadata": {},
   "outputs": [
    {
     "name": "stdout",
     "output_type": "stream",
     "text": [
      "Data are updated on Tuesdays and Thursdays. Last updated August 4, 2022.\n"
     ]
    }
   ],
   "source": [
    "date = soup.find_all('span', attrs={'class':'ms-rteStyle-Emphasis'})\n",
    "for span in spans:\n",
    "    print(date.string)"
   ]
  },
  {
   "cell_type": "code",
   "execution_count": 135,
   "id": "782b9bca-0a21-47c0-adae-f4ab2a481766",
   "metadata": {},
   "outputs": [
    {
     "name": "stdout",
     "output_type": "stream",
     "text": [
      "[]\n"
     ]
    }
   ],
   "source": [
    "print(spans)"
   ]
  },
  {
   "cell_type": "markdown",
   "id": "6dac120f-726e-4e40-81bb-328a032344c6",
   "metadata": {},
   "source": [
    "### Convert to dataframe"
   ]
  },
  {
   "cell_type": "code",
   "execution_count": 46,
   "id": "57ba6569-ae23-4b3f-b91e-518460a38177",
   "metadata": {},
   "outputs": [],
   "source": [
    "df = pd.DataFrame(dict_list)"
   ]
  },
  {
   "cell_type": "markdown",
   "id": "32a25d75-27d9-409c-8d31-17b56cb4e3c3",
   "metadata": {},
   "source": [
    "### Export"
   ]
  },
  {
   "cell_type": "code",
   "execution_count": 49,
   "id": "e557bb37-a236-4375-961c-131f4bc7f63b",
   "metadata": {},
   "outputs": [],
   "source": [
    "df.to_csv(\"raw/cdph/latest.csv\", index=False)"
   ]
  },
  {
   "cell_type": "code",
   "execution_count": null,
   "id": "769a14b4-66e6-4f02-baba-c302191b568c",
   "metadata": {},
   "outputs": [],
   "source": []
  }
 ],
 "metadata": {
  "kernelspec": {
   "display_name": "Python 3 (ipykernel)",
   "language": "python",
   "name": "python3"
  },
  "language_info": {
   "codemirror_mode": {
    "name": "ipython",
    "version": 3
   },
   "file_extension": ".py",
   "mimetype": "text/x-python",
   "name": "python",
   "nbconvert_exporter": "python",
   "pygments_lexer": "ipython3",
   "version": "3.10.5"
  }
 },
 "nbformat": 4,
 "nbformat_minor": 5
}
