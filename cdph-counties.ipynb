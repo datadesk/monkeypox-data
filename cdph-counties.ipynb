{
 "cells": [
  {
   "cell_type": "code",
   "execution_count": 1,
   "id": "8830c7f0-8b96-4ac4-9ebc-40d4f4d88ef3",
   "metadata": {},
   "outputs": [],
   "source": [
    "# \n",
    "# import json\n",
    "# from datetime import datetime\n",
    "import re\n",
    "import requests\n",
    "import pandas as pd\n",
    "from bs4 import BeautifulSoup"
   ]
  },
  {
   "cell_type": "markdown",
   "id": "9db5cee5-6f08-4672-ad16-85f34f454b89",
   "metadata": {},
   "source": [
    "### Download the webpage"
   ]
  },
  {
   "cell_type": "code",
   "execution_count": 2,
   "id": "28507ce6-3981-4fe0-b536-e90b6febcbdd",
   "metadata": {},
   "outputs": [],
   "source": [
    "url = \"https://www.cdph.ca.gov/Programs/CID/DCDC/Pages/Monkeypox-Data.aspx\""
   ]
  },
  {
   "cell_type": "code",
   "execution_count": 3,
   "id": "59b24f27-b9a0-44fd-a4c4-1a10a0963475",
   "metadata": {},
   "outputs": [],
   "source": [
    "page = requests.get(url)"
   ]
  },
  {
   "cell_type": "markdown",
   "id": "306a7a49-c274-4133-80b6-f5a45c7fa9fc",
   "metadata": {},
   "source": [
    "### Parse the webpage"
   ]
  },
  {
   "cell_type": "code",
   "execution_count": 4,
   "id": "6906eaac-febc-4325-a48d-e1abebc68da5",
   "metadata": {},
   "outputs": [],
   "source": [
    "soup = BeautifulSoup( page.content, 'html.parser' )"
   ]
  },
  {
   "cell_type": "code",
   "execution_count": 5,
   "id": "5026853c-789c-4b06-bb3c-cfe069aec207",
   "metadata": {},
   "outputs": [],
   "source": [
    "content = soup.find(\"div\", id=\"DeltaPlaceHolderMain\")"
   ]
  },
  {
   "cell_type": "code",
   "execution_count": 6,
   "id": "a88f434e-fd67-460d-910b-221eba22a8e0",
   "metadata": {},
   "outputs": [],
   "source": [
    "tables = content.find_all(\"table\")"
   ]
  },
  {
   "cell_type": "code",
   "execution_count": 7,
   "id": "4effe5c3-9994-41fe-9dd8-9dfe0228a871",
   "metadata": {},
   "outputs": [
    {
     "data": {
      "text/plain": [
       "8"
      ]
     },
     "execution_count": 7,
     "metadata": {},
     "output_type": "execute_result"
    }
   ],
   "source": [
    "len(tables)"
   ]
  },
  {
   "cell_type": "code",
   "execution_count": 8,
   "id": "2a95a57e-85fd-4a88-a527-92a5fbc5aab3",
   "metadata": {},
   "outputs": [
    {
     "data": {
      "text/plain": [
       "'By Local\\r\\n  Health Jurisdiction'"
      ]
     },
     "execution_count": 8,
     "metadata": {},
     "output_type": "execute_result"
    }
   ],
   "source": [
    "tables[2].find( \"th\" ).find(\"strong\").text"
   ]
  },
  {
   "cell_type": "code",
   "execution_count": 9,
   "id": "1ac57287",
   "metadata": {},
   "outputs": [],
   "source": [
    "for tag in content.find_all(text=re.compile('Jurisdiction')):\n",
    "    table = tag.findParent(\"table\")"
   ]
  },
  {
   "cell_type": "code",
   "execution_count": 10,
   "id": "bd70a4a7-011f-4125-9009-d2fa7a66c71e",
   "metadata": {},
   "outputs": [],
   "source": [
    "def safetxt(element):\n",
    "    v = element.text.strip()\n",
    "    v = v.replace(\"\\u200b\", \"\")\n",
    "    return v"
   ]
  },
  {
   "cell_type": "code",
   "execution_count": 11,
   "id": "013fbe9c-d591-4102-a22d-6c3d5230f722",
   "metadata": {},
   "outputs": [],
   "source": [
    "def safenumber(element):\n",
    "    v = safetxt(element)\n",
    "    v = v.replace(\",\", \"\")\n",
    "    v = v.replace(\" \", \"\")\n",
    "    return v"
   ]
  },
  {
   "cell_type": "code",
   "execution_count": 12,
   "id": "47bf04d7-708c-466c-b13a-67abfcf9bcd0",
   "metadata": {},
   "outputs": [
    {
     "name": "stdout",
     "output_type": "stream",
     "text": [
      "list index out of range\n"
     ]
    }
   ],
   "source": [
    "dict_list = []\n",
    "\n",
    "for row in table.find_all(\"tr\"):\n",
    "    cell_list = row.find_all(\"td\")\n",
    "    #print(cell_list)\n",
    "    try:\n",
    "        d = dict(\n",
    "            lhj_name = safetxt( cell_list[0] ),\n",
    "            cases = safenumber( cell_list[1] )        \n",
    "        )\n",
    "        dict_list.append(d)\n",
    "    except Exception as e: \n",
    "        print(e)"
   ]
  },
  {
   "cell_type": "markdown",
   "id": "047c3711-a167-4fad-af57-54c5e24cf6f6",
   "metadata": {},
   "source": [
    "### Parsing date"
   ]
  },
  {
   "cell_type": "code",
   "execution_count": 61,
   "id": "f59905b3-a7ab-43f6-aea0-dbcaa5235366",
   "metadata": {},
   "outputs": [],
   "source": [
    "date_container = content.find(\"div\", id=\"WebPartWPQ5\")"
   ]
  },
  {
   "cell_type": "code",
   "execution_count": 62,
   "id": "184f9b18-6e7e-476f-bf4d-ddf9e760f61c",
   "metadata": {},
   "outputs": [
    {
     "name": "stdout",
     "output_type": "stream",
     "text": [
      "<div allowdelete=\"false\" class=\"ms-WPBody noindex\" haspers=\"false\" id=\"WebPartWPQ5\" style=\"\" webpartid=\"95454ff2-2c3f-4946-ab0a-abe5487f099c\" width=\"100%\"><div class=\"ms-rtestate-field\"><div class=\"NewsItemContent\">\n",
      "<p></p><div class=\"NewsItemContent\" style=\"font-size: 18px;\"><p style=\"line-height: 1.6;\"><span style=\"color: #0072c6; font-size: 36px; font-weight: 700; background-color: transparent;\">Monkeypox Data in California </span><br/></p></div><p style=\"line-height: 1.6;\"><span class=\"ms-rteStyle-Emphasis\">Data are updated on Tuesdays and Thursdays. Last updated August 4, 2022.</span></p><h3 style='font-family: \"source sans pro\", sans-serif; color: #202020; font-size: 18px; line-height: 1.4;'>Number of reported probable and confirmed monkeypox cases in California<br/></h3></div></div><div class=\"ms-clear\"></div></div>\n"
     ]
    }
   ],
   "source": [
    "print(date_container)"
   ]
  },
  {
   "cell_type": "code",
   "execution_count": 67,
   "id": "d981358e-9a4b-4f6b-979b-e7d62c9a6814",
   "metadata": {},
   "outputs": [],
   "source": [
    "date_sentence = date_container.find('span', attrs={'class':'ms-rteStyle-Emphasis'}).string"
   ]
  },
  {
   "cell_type": "code",
   "execution_count": 80,
   "id": "9f28dd43-f028-4723-86ad-80e403058eec",
   "metadata": {},
   "outputs": [],
   "source": [
    "date_formatting = date_sentence.split(\"Last updated \")[1].replace(\".\",\"\")"
   ]
  },
  {
   "cell_type": "code",
   "execution_count": 81,
   "id": "d80605c3-28e3-49c7-95dc-7f370e372fa2",
   "metadata": {},
   "outputs": [
    {
     "data": {
      "text/plain": [
       "'August 4, 2022'"
      ]
     },
     "execution_count": 81,
     "metadata": {},
     "output_type": "execute_result"
    }
   ],
   "source": [
    "date_formatting"
   ]
  },
  {
   "cell_type": "markdown",
   "id": "6dac120f-726e-4e40-81bb-328a032344c6",
   "metadata": {},
   "source": [
    "### Convert to dataframe"
   ]
  },
  {
   "cell_type": "code",
   "execution_count": 27,
   "id": "57ba6569-ae23-4b3f-b91e-518460a38177",
   "metadata": {},
   "outputs": [],
   "source": [
    "df = pd.DataFrame(dict_list)"
   ]
  },
  {
   "cell_type": "code",
   "execution_count": 89,
   "id": "adb0c23b-88c0-4194-a3f7-e4de272f58b4",
   "metadata": {},
   "outputs": [],
   "source": [
    "clean_date = pd.to_datetime(date_formatting).date()"
   ]
  },
  {
   "cell_type": "code",
   "execution_count": 90,
   "id": "b4107834-bb57-4c98-b639-53e25401b651",
   "metadata": {},
   "outputs": [],
   "source": [
    "df[\"date\"] = clean_date"
   ]
  },
  {
   "cell_type": "code",
   "execution_count": 92,
   "id": "1405a825-4f7a-4e79-97c3-22647909a13b",
   "metadata": {},
   "outputs": [
    {
     "data": {
      "text/html": [
       "<div>\n",
       "<style scoped>\n",
       "    .dataframe tbody tr th:only-of-type {\n",
       "        vertical-align: middle;\n",
       "    }\n",
       "\n",
       "    .dataframe tbody tr th {\n",
       "        vertical-align: top;\n",
       "    }\n",
       "\n",
       "    .dataframe thead th {\n",
       "        text-align: right;\n",
       "    }\n",
       "</style>\n",
       "<table border=\"1\" class=\"dataframe\">\n",
       "  <thead>\n",
       "    <tr style=\"text-align: right;\">\n",
       "      <th></th>\n",
       "      <th>lhj_name</th>\n",
       "      <th>cases</th>\n",
       "      <th>date</th>\n",
       "    </tr>\n",
       "  </thead>\n",
       "  <tbody>\n",
       "    <tr>\n",
       "      <th>0</th>\n",
       "      <td>Los Angeles</td>\n",
       "      <td>431</td>\n",
       "      <td>2022-08-04</td>\n",
       "    </tr>\n",
       "    <tr>\n",
       "      <th>1</th>\n",
       "      <td>San Francisco</td>\n",
       "      <td>398</td>\n",
       "      <td>2022-08-04</td>\n",
       "    </tr>\n",
       "    <tr>\n",
       "      <th>2</th>\n",
       "      <td>Alameda</td>\n",
       "      <td>83</td>\n",
       "      <td>2022-08-04</td>\n",
       "    </tr>\n",
       "    <tr>\n",
       "      <th>3</th>\n",
       "      <td>Sacramento</td>\n",
       "      <td>63</td>\n",
       "      <td>2022-08-04</td>\n",
       "    </tr>\n",
       "    <tr>\n",
       "      <th>4</th>\n",
       "      <td>Santa Clara</td>\n",
       "      <td>61</td>\n",
       "      <td>2022-08-04</td>\n",
       "    </tr>\n",
       "    <tr>\n",
       "      <th>5</th>\n",
       "      <td>San Diego</td>\n",
       "      <td>54</td>\n",
       "      <td>2022-08-04</td>\n",
       "    </tr>\n",
       "    <tr>\n",
       "      <th>6</th>\n",
       "      <td>Riverside</td>\n",
       "      <td>35</td>\n",
       "      <td>2022-08-04</td>\n",
       "    </tr>\n",
       "    <tr>\n",
       "      <th>7</th>\n",
       "      <td>Contra Costa</td>\n",
       "      <td>28</td>\n",
       "      <td>2022-08-04</td>\n",
       "    </tr>\n",
       "    <tr>\n",
       "      <th>8</th>\n",
       "      <td>Orange</td>\n",
       "      <td>24</td>\n",
       "      <td>2022-08-04</td>\n",
       "    </tr>\n",
       "    <tr>\n",
       "      <th>9</th>\n",
       "      <td>Long Beach</td>\n",
       "      <td>23</td>\n",
       "      <td>2022-08-04</td>\n",
       "    </tr>\n",
       "    <tr>\n",
       "      <th>10</th>\n",
       "      <td>San Mateo</td>\n",
       "      <td>20</td>\n",
       "      <td>2022-08-04</td>\n",
       "    </tr>\n",
       "    <tr>\n",
       "      <th>11</th>\n",
       "      <td>Sonoma</td>\n",
       "      <td>14</td>\n",
       "      <td>2022-08-04</td>\n",
       "    </tr>\n",
       "    <tr>\n",
       "      <th>12</th>\n",
       "      <td>Solano</td>\n",
       "      <td>11</td>\n",
       "      <td>2022-08-04</td>\n",
       "    </tr>\n",
       "    <tr>\n",
       "      <th>13</th>\n",
       "      <td>Berkeley</td>\n",
       "      <td>10</td>\n",
       "      <td>2022-08-04</td>\n",
       "    </tr>\n",
       "    <tr>\n",
       "      <th>14</th>\n",
       "      <td>San Bernardino</td>\n",
       "      <td>8</td>\n",
       "      <td>2022-08-04</td>\n",
       "    </tr>\n",
       "    <tr>\n",
       "      <th>15</th>\n",
       "      <td>Kern</td>\n",
       "      <td>6</td>\n",
       "      <td>2022-08-04</td>\n",
       "    </tr>\n",
       "    <tr>\n",
       "      <th>16</th>\n",
       "      <td>Pasadena</td>\n",
       "      <td>6</td>\n",
       "      <td>2022-08-04</td>\n",
       "    </tr>\n",
       "    <tr>\n",
       "      <th>17</th>\n",
       "      <td>San Joaquin</td>\n",
       "      <td>6</td>\n",
       "      <td>2022-08-04</td>\n",
       "    </tr>\n",
       "    <tr>\n",
       "      <th>18</th>\n",
       "      <td>Santa Cruz</td>\n",
       "      <td>5</td>\n",
       "      <td>2022-08-04</td>\n",
       "    </tr>\n",
       "    <tr>\n",
       "      <th>19</th>\n",
       "      <td>Fresno</td>\n",
       "      <td>4</td>\n",
       "      <td>2022-08-04</td>\n",
       "    </tr>\n",
       "    <tr>\n",
       "      <th>20</th>\n",
       "      <td>Monterey</td>\n",
       "      <td>4</td>\n",
       "      <td>2022-08-04</td>\n",
       "    </tr>\n",
       "    <tr>\n",
       "      <th>21</th>\n",
       "      <td>Marin</td>\n",
       "      <td>3</td>\n",
       "      <td>2022-08-04</td>\n",
       "    </tr>\n",
       "    <tr>\n",
       "      <th>22</th>\n",
       "      <td>Ventura</td>\n",
       "      <td>3</td>\n",
       "      <td>2022-08-04</td>\n",
       "    </tr>\n",
       "    <tr>\n",
       "      <th>23</th>\n",
       "      <td>Butte</td>\n",
       "      <td>2</td>\n",
       "      <td>2022-08-04</td>\n",
       "    </tr>\n",
       "    <tr>\n",
       "      <th>24</th>\n",
       "      <td>Placer</td>\n",
       "      <td>2</td>\n",
       "      <td>2022-08-04</td>\n",
       "    </tr>\n",
       "    <tr>\n",
       "      <th>25</th>\n",
       "      <td>Stanislaus</td>\n",
       "      <td>2</td>\n",
       "      <td>2022-08-04</td>\n",
       "    </tr>\n",
       "    <tr>\n",
       "      <th>26</th>\n",
       "      <td>Tulare</td>\n",
       "      <td>2</td>\n",
       "      <td>2022-08-04</td>\n",
       "    </tr>\n",
       "    <tr>\n",
       "      <th>27</th>\n",
       "      <td>Imperial</td>\n",
       "      <td>1</td>\n",
       "      <td>2022-08-04</td>\n",
       "    </tr>\n",
       "    <tr>\n",
       "      <th>28</th>\n",
       "      <td>Napa</td>\n",
       "      <td>1</td>\n",
       "      <td>2022-08-04</td>\n",
       "    </tr>\n",
       "  </tbody>\n",
       "</table>\n",
       "</div>"
      ],
      "text/plain": [
       "          lhj_name cases        date\n",
       "0      Los Angeles   431  2022-08-04\n",
       "1    San Francisco   398  2022-08-04\n",
       "2          Alameda    83  2022-08-04\n",
       "3       Sacramento    63  2022-08-04\n",
       "4      Santa Clara    61  2022-08-04\n",
       "5        San Diego    54  2022-08-04\n",
       "6        Riverside    35  2022-08-04\n",
       "7     Contra Costa    28  2022-08-04\n",
       "8           Orange    24  2022-08-04\n",
       "9       Long Beach    23  2022-08-04\n",
       "10       San Mateo    20  2022-08-04\n",
       "11          Sonoma    14  2022-08-04\n",
       "12          Solano    11  2022-08-04\n",
       "13        Berkeley    10  2022-08-04\n",
       "14  San Bernardino     8  2022-08-04\n",
       "15            Kern     6  2022-08-04\n",
       "16        Pasadena     6  2022-08-04\n",
       "17     San Joaquin     6  2022-08-04\n",
       "18      Santa Cruz     5  2022-08-04\n",
       "19          Fresno     4  2022-08-04\n",
       "20        Monterey     4  2022-08-04\n",
       "21           Marin     3  2022-08-04\n",
       "22         Ventura     3  2022-08-04\n",
       "23           Butte     2  2022-08-04\n",
       "24          Placer     2  2022-08-04\n",
       "25      Stanislaus     2  2022-08-04\n",
       "26          Tulare     2  2022-08-04\n",
       "27        Imperial     1  2022-08-04\n",
       "28            Napa     1  2022-08-04"
      ]
     },
     "execution_count": 92,
     "metadata": {},
     "output_type": "execute_result"
    }
   ],
   "source": [
    "df"
   ]
  },
  {
   "cell_type": "markdown",
   "id": "32a25d75-27d9-409c-8d31-17b56cb4e3c3",
   "metadata": {},
   "source": [
    "### Export"
   ]
  },
  {
   "cell_type": "code",
   "execution_count": 28,
   "id": "e557bb37-a236-4375-961c-131f4bc7f63b",
   "metadata": {},
   "outputs": [],
   "source": [
    "df.to_csv(\"raw/cdph/latest.csv\", index=False)"
   ]
  },
  {
   "cell_type": "code",
   "execution_count": null,
   "id": "769a14b4-66e6-4f02-baba-c302191b568c",
   "metadata": {},
   "outputs": [],
   "source": [
    "df.to_csv(f\"raw/cdph/{}.csv\", index=False)"
   ]
  }
 ],
 "metadata": {
  "kernelspec": {
   "display_name": "Python 3 (ipykernel)",
   "language": "python",
   "name": "python3"
  },
  "language_info": {
   "codemirror_mode": {
    "name": "ipython",
    "version": 3
   },
   "file_extension": ".py",
   "mimetype": "text/x-python",
   "name": "python",
   "nbconvert_exporter": "python",
   "pygments_lexer": "ipython3",
   "version": "3.10.5"
  }
 },
 "nbformat": 4,
 "nbformat_minor": 5
}
