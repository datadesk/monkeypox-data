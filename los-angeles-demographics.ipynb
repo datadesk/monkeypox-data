{
 "cells": [
  {
   "cell_type": "code",
   "execution_count": 3,
   "id": "5cece090-a1a8-4e5f-83ba-867e9aad28b1",
   "metadata": {},
   "outputs": [],
   "source": [
    "import re\n",
    "import pytz\n",
    "import glob\n",
    "import requests\n",
    "import unicodedata\n",
    "import pandas as pd\n",
    "#from slugify import slugify\n",
    "from bs4 import BeautifulSoup\n",
    "from datetime import datetime, date"
   ]
  },
  {
   "cell_type": "markdown",
   "id": "ae3d5bae-a76a-4f52-b82a-292afaa49b9c",
   "metadata": {},
   "source": [
    "### Download"
   ]
  },
  {
   "cell_type": "markdown",
   "id": "7d4a6a15-89b7-43d9-9ecd-9999289a9f20",
   "metadata": {},
   "source": [
    "Retrieve the page"
   ]
  },
  {
   "cell_type": "code",
   "execution_count": 4,
   "id": "1bb4203c-d394-4d47-862c-40e83c9aefcc",
   "metadata": {},
   "outputs": [],
   "source": [
    "url = \"http://publichealth.lacounty.gov/media/monkeypox/data/index.htm\"\n",
    "page = requests.get(url)"
   ]
  },
  {
   "cell_type": "markdown",
   "id": "3199f5d2-66a7-438e-8f1c-eba9ab181967",
   "metadata": {},
   "source": [
    "### Parse"
   ]
  },
  {
   "cell_type": "code",
   "execution_count": 5,
   "id": "d76e38dc-38c2-430a-a0b5-6332a37e4963",
   "metadata": {},
   "outputs": [],
   "source": [
    "soup = BeautifulSoup(page.content, \"html.parser\")\n",
    "content = soup.find(\"div\", {\"id\": \"content\"})"
   ]
  },
  {
   "cell_type": "code",
   "execution_count": 15,
   "id": "d3d13efa-dad1-4189-9d6d-a008878b5789",
   "metadata": {},
   "outputs": [],
   "source": [
    "tables = [\n",
    "    \"Gender\",\n",
    "    \"Age Group\",\n",
    "    \"Sexual Orientation\",\n",
    "    \"Race/Ethnicity\",\n",
    "]"
   ]
  },
  {
   "cell_type": "code",
   "execution_count": 29,
   "id": "f66ec2cc-8ea3-47ef-b0b4-6290bb2aee19",
   "metadata": {},
   "outputs": [],
   "source": [
    "table_list=[]\n",
    "for t in tables:\n",
    "    for tag in content.find_all(text=re.compile(t)):\n",
    "        table = tag.findParent(\"table\")\n",
    "        table_list.append(table)"
   ]
  },
  {
   "cell_type": "code",
   "execution_count": 30,
   "id": "5aba781f-91e9-4d7d-9c55-85bee119f1b7",
   "metadata": {},
   "outputs": [
    {
     "data": {
      "text/plain": [
       "<table class=\"table table-bordered table-sm overflow-y\">\n",
       "<thead class=\"bg-white\"><tr><td></td><td>count (%)</td></tr></thead>\n",
       "<thead class=\"bg-mpblue\"><tr><td class=\"text-white\">Gender</td><td class=\"text-white\"></td></tr></thead>\n",
       "<tr><td>Male</td><td>305 (99%)</td></tr>\n",
       "<tr><td>Female</td><td>0 (0%)</td></tr>\n",
       "<tr><td>Transgender male, transgender female, gender non-conforming, or another gender identity</td><td>1-4<sup>2</sup></td></tr>\n",
       "<tr><td>Unknown</td><td>0 (0%)</td></tr>\n",
       "<thead class=\"bg-mpblue\"><tr><td class=\"text-white\">Age Group</td><td class=\"text-white\"></td></tr></thead>\n",
       "<tr><td>0-12</td><td>0 (0%)</td></tr>\n",
       "<tr><td>13-19</td><td>0 (0%)</td></tr>\n",
       "<tr><td>20-29</td><td>68 (22%)</td></tr>\n",
       "<tr><td>30-39</td><td>135 (44%)</td></tr>\n",
       "<tr><td>40-49</td><td>72 (24%)</td></tr>\n",
       "<tr><td>50 or older</td><td>31 (10%)</td></tr>\n",
       "<tr><td>Unknown</td><td>0 (0%)</td></tr>\n",
       "</table>"
      ]
     },
     "execution_count": 30,
     "metadata": {},
     "output_type": "execute_result"
    }
   ],
   "source": [
    "table_list[0]"
   ]
  },
  {
   "cell_type": "code",
   "execution_count": 31,
   "id": "4352cb41-981a-4196-b17f-583f4a6778e6",
   "metadata": {},
   "outputs": [],
   "source": [
    "def safetxt(element):\n",
    "    v = element.text.strip()\n",
    "    v = v.replace(\"\\u200b\", \"\")\n",
    "    return v"
   ]
  },
  {
   "cell_type": "code",
   "execution_count": 32,
   "id": "21402e52-5f3e-4d9b-8de1-7de45beb6bad",
   "metadata": {},
   "outputs": [],
   "source": [
    "def safenumber(element):\n",
    "    v = safetxt(element)\n",
    "    v = v.replace(\",\", \"\")\n",
    "    v = v.replace(\" \", \"\")\n",
    "    return v"
   ]
  },
  {
   "cell_type": "code",
   "execution_count": 33,
   "id": "5d3fbfd6-df76-4017-84dd-1fc7f93b400b",
   "metadata": {},
   "outputs": [
    {
     "name": "stdout",
     "output_type": "stream",
     "text": [
      "\n",
      "Gender\n",
      "Male\n",
      "Female\n",
      "Transgender male, transgender female, gender non-conforming, or another gender identity\n",
      "Unknown\n",
      "Age Group\n",
      "0-12\n",
      "13-19\n",
      "20-29\n",
      "30-39\n",
      "40-49\n",
      "50 or older\n",
      "Unknown\n",
      "\n",
      "Gender\n",
      "Male\n",
      "Female\n",
      "Transgender male, transgender female, gender non-conforming, or another gender identity\n",
      "Unknown\n",
      "Age Group\n",
      "0-12\n",
      "13-19\n",
      "20-29\n",
      "30-39\n",
      "40-49\n",
      "50 or older\n",
      "Unknown\n",
      "\n",
      "Sexual Orientation\n",
      "LGBTQ+3\n",
      "Straight or Heterosexual\n",
      "Unknown\n",
      "Race/Ethnicity\n",
      "American Indian or Alaska Native\n",
      "Asian\n",
      "Black or African American\n",
      "Latino/Hispanic\n",
      "Native Hawaiian or Other Pacific Islander\n",
      "White\n",
      "Other/Multiracial\n",
      "Unknown\n",
      "Service Planning Area (SPA)\n",
      "1\n",
      "2\n",
      "3\n",
      "4\n",
      "5\n",
      "6\n",
      "7\n",
      "8\n",
      "Unknown\n",
      "\n",
      "Sexual Orientation\n",
      "LGBTQ+3\n",
      "Straight or Heterosexual\n",
      "Unknown\n",
      "Race/Ethnicity\n",
      "American Indian or Alaska Native\n",
      "Asian\n",
      "Black or African American\n",
      "Latino/Hispanic\n",
      "Native Hawaiian or Other Pacific Islander\n",
      "White\n",
      "Other/Multiracial\n",
      "Unknown\n",
      "Service Planning Area (SPA)\n",
      "1\n",
      "2\n",
      "3\n",
      "4\n",
      "5\n",
      "6\n",
      "7\n",
      "8\n",
      "Unknown\n"
     ]
    }
   ],
   "source": [
    "for table in table_list:\n",
    "    #tbody = table.tbody\n",
    "    row_list = table.find_all(\"tr\")\n",
    "    dict_list = []\n",
    "\n",
    "    for row in row_list:\n",
    "        cell_content = row.find_all(\"td\")\n",
    "        print(cell_content[0].text)\n",
    "    #     d = dict(\n",
    "    #         #county=\"Los Angeles\",\n",
    "    #         #area=safetxt(cell_content[0]),\n",
    "    #         #confirmed_cases=safenumber(cell_content[1]),\n",
    "    #         #confirmed_deaths=safenumber(cell_content[3]),\n",
    "    #     )\n",
    "    #     dict_list.append(d)\n",
    "    # df = pd.DataFrame(dict_list)"
   ]
  },
  {
   "cell_type": "code",
   "execution_count": null,
   "id": "b06f7d5d-4abc-44f3-af50-7527cf210897",
   "metadata": {},
   "outputs": [],
   "source": []
  }
 ],
 "metadata": {
  "kernelspec": {
   "display_name": "Python 3 (ipykernel)",
   "language": "python",
   "name": "python3"
  },
  "language_info": {
   "codemirror_mode": {
    "name": "ipython",
    "version": 3
   },
   "file_extension": ".py",
   "mimetype": "text/x-python",
   "name": "python",
   "nbconvert_exporter": "python",
   "pygments_lexer": "ipython3",
   "version": "3.9.13"
  }
 },
 "nbformat": 4,
 "nbformat_minor": 5
}
