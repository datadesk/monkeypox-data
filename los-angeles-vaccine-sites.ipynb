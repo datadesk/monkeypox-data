{
 "cells": [
  {
   "cell_type": "markdown",
   "id": "67ed410a-b4d4-4319-bf1c-ee00419e1708",
   "metadata": {},
   "source": [
    "# Locating Los Angeles vaccination sites"
   ]
  },
  {
   "cell_type": "markdown",
   "id": "3e4fcd40-25b3-4dec-9e88-fd51251dd11c",
   "metadata": {},
   "source": [
    "#### Import packages"
   ]
  },
  {
   "cell_type": "code",
   "execution_count": 9,
   "id": "2340012a-24b1-4b08-aacc-55119ee5cbaa",
   "metadata": {},
   "outputs": [],
   "source": [
    "import requests\n",
    "import pandas as pd\n",
    "from bs4 import BeautifulSoup\n",
    "import re\n",
    "import json\n",
    "from datetime import datetime"
   ]
  },
  {
   "cell_type": "markdown",
   "id": "cf9ca06a-1f79-4147-9fba-ce13b14ea234",
   "metadata": {},
   "source": [
    "#### Locate data"
   ]
  },
  {
   "cell_type": "code",
   "execution_count": 10,
   "id": "ff5a759f-0ecf-46fb-96c2-7ddc164ef193",
   "metadata": {},
   "outputs": [],
   "source": [
    "url = \"http://publichealth.lacounty.gov/media/monkeypox/maps/first/mpx-spamap-widget.html\""
   ]
  },
  {
   "cell_type": "code",
   "execution_count": 11,
   "id": "7eb84e23-d96b-468c-a1c3-2c5dcb553c49",
   "metadata": {},
   "outputs": [],
   "source": [
    "page = requests.get(url)"
   ]
  },
  {
   "cell_type": "markdown",
   "id": "5a1a446a-2171-44b9-933d-10469c629f5c",
   "metadata": {},
   "source": [
    "#### Make soup"
   ]
  },
  {
   "cell_type": "code",
   "execution_count": 12,
   "id": "6bdfd7a6-c1d3-46a8-91d3-adcce0fb84b1",
   "metadata": {},
   "outputs": [],
   "source": [
    "soup = BeautifulSoup( page.content, 'html.parser' )"
   ]
  },
  {
   "cell_type": "code",
   "execution_count": 13,
   "id": "9f9b2a8c-1067-4b65-a60a-f072f1b5f5c6",
   "metadata": {},
   "outputs": [],
   "source": [
    "for elem in soup(text=re.compile(r\"Case Counts\")):\n",
    "    script_content = elem"
   ]
  },
  {
   "cell_type": "code",
   "execution_count": 14,
   "id": "40b79dc9-0342-4dd0-86d4-3a462425ba93",
   "metadata": {},
   "outputs": [],
   "source": [
    "data = json.loads(script_content)"
   ]
  },
  {
   "cell_type": "markdown",
   "id": "eb93848d-1485-4175-8331-3b607eed7737",
   "metadata": {},
   "source": [
    "#### Parse lat-long data"
   ]
  },
  {
   "cell_type": "code",
   "execution_count": 15,
   "id": "477b19a7-297d-43a1-a992-92e02d6cffae",
   "metadata": {},
   "outputs": [],
   "source": [
    "lats = data['x']['calls'][5]['args'][0]"
   ]
  },
  {
   "cell_type": "code",
   "execution_count": 16,
   "id": "5c185759-caa4-41bd-ad84-c7162e40c74e",
   "metadata": {},
   "outputs": [],
   "source": [
    "lats = data['x']['calls'][5]['args'][0]"
   ]
  },
  {
   "cell_type": "code",
   "execution_count": 17,
   "id": "7ed1a700-33aa-4ebb-99fa-86cbb777834d",
   "metadata": {},
   "outputs": [],
   "source": [
    "longs = data['x']['calls'][5]['args'][1]"
   ]
  },
  {
   "cell_type": "code",
   "execution_count": 18,
   "id": "5e3c193a-14bd-4688-bcf6-f3eea3169b67",
   "metadata": {},
   "outputs": [],
   "source": [
    "indeces = data['x']['calls'][5]['args'][2]['iconUrl']['index']"
   ]
  },
  {
   "cell_type": "markdown",
   "id": "70124599-e7b6-4545-a47e-925bdd496cc5",
   "metadata": {},
   "source": [
    "### Construct dataframe"
   ]
  },
  {
   "cell_type": "code",
   "execution_count": 19,
   "id": "2c06ff47-4004-47db-ad6f-e81c8118762a",
   "metadata": {},
   "outputs": [],
   "source": [
    "dict_list = []\n",
    "for idx, lat in enumerate(lats):\n",
    "    d = dict(\n",
    "        lat = lat,\n",
    "        lng = longs[idx],\n",
    "        symbol = indeces[idx],\n",
    "    )\n",
    "    dict_list.append(d)"
   ]
  },
  {
   "cell_type": "code",
   "execution_count": 20,
   "id": "3bab57ec-127b-43a7-aa9f-d15f643b21f2",
   "metadata": {},
   "outputs": [],
   "source": [
    "latlong = pd.DataFrame(dict_list)"
   ]
  },
  {
   "cell_type": "code",
   "execution_count": 26,
   "id": "446ee06d-3cec-4ccc-9466-ce1ca4456f9a",
   "metadata": {},
   "outputs": [],
   "source": [
    "latlong.to_csv(\"processed/vaccines/la-county-vaccine-sites.csv\", index=False)"
   ]
  }
 ],
 "metadata": {
  "kernelspec": {
   "display_name": "Python 3 (ipykernel)",
   "language": "python",
   "name": "python3"
  },
  "language_info": {
   "codemirror_mode": {
    "name": "ipython",
    "version": 3
   },
   "file_extension": ".py",
   "mimetype": "text/x-python",
   "name": "python",
   "nbconvert_exporter": "python",
   "pygments_lexer": "ipython3",
   "version": "3.9.13"
  }
 },
 "nbformat": 4,
 "nbformat_minor": 5
}
