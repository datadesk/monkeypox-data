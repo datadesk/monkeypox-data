{
 "cells": [
  {
   "cell_type": "markdown",
   "id": "67ed410a-b4d4-4319-bf1c-ee00419e1708",
   "metadata": {},
   "source": [
    "# Locating Los Angeles vaccination sites"
   ]
  },
  {
   "cell_type": "markdown",
   "id": "3e4fcd40-25b3-4dec-9e88-fd51251dd11c",
   "metadata": {},
   "source": [
    "#### Import packages"
   ]
  },
  {
   "cell_type": "code",
   "execution_count": 24,
   "id": "2340012a-24b1-4b08-aacc-55119ee5cbaa",
   "metadata": {},
   "outputs": [],
   "source": [
    "import requests\n",
    "import pandas as pd\n",
    "from bs4 import BeautifulSoup\n",
    "import re\n",
    "import json\n",
    "from datetime import datetime"
   ]
  },
  {
   "cell_type": "markdown",
   "id": "cf9ca06a-1f79-4147-9fba-ce13b14ea234",
   "metadata": {},
   "source": [
    "#### Locate data"
   ]
  },
  {
   "cell_type": "code",
   "execution_count": 25,
   "id": "ff5a759f-0ecf-46fb-96c2-7ddc164ef193",
   "metadata": {},
   "outputs": [],
   "source": [
    "url = \"http://publichealth.lacounty.gov/media/monkeypox/maps/first/mpx-spamap-widget.html\""
   ]
  },
  {
   "cell_type": "code",
   "execution_count": 40,
   "id": "7eb84e23-d96b-468c-a1c3-2c5dcb553c49",
   "metadata": {},
   "outputs": [],
   "source": [
    "page = requests.get(url)"
   ]
  },
  {
   "cell_type": "markdown",
   "id": "5a1a446a-2171-44b9-933d-10469c629f5c",
   "metadata": {},
   "source": [
    "#### Make soup"
   ]
  },
  {
   "cell_type": "code",
   "execution_count": 27,
   "id": "6bdfd7a6-c1d3-46a8-91d3-adcce0fb84b1",
   "metadata": {},
   "outputs": [],
   "source": [
    "soup = BeautifulSoup( page.content, 'html.parser' )"
   ]
  },
  {
   "cell_type": "code",
   "execution_count": 28,
   "id": "9f9b2a8c-1067-4b65-a60a-f072f1b5f5c6",
   "metadata": {},
   "outputs": [],
   "source": [
    "for elem in soup(text=re.compile(r\"Case Counts\")):\n",
    "    script_content = elem"
   ]
  },
  {
   "cell_type": "code",
   "execution_count": 30,
   "id": "40b79dc9-0342-4dd0-86d4-3a462425ba93",
   "metadata": {},
   "outputs": [],
   "source": [
    "data = json.loads(script_content)"
   ]
  },
  {
   "cell_type": "code",
   "execution_count": 84,
   "id": "477b19a7-297d-43a1-a992-92e02d6cffae",
   "metadata": {},
   "outputs": [],
   "source": [
    "lats = data['x']['calls'][5]['args'][0]S"
   ]
  },
  {
   "cell_type": "code",
   "execution_count": 86,
   "id": "53da63ea-0549-4975-a7c3-d0fe2c09128d",
   "metadata": {},
   "outputs": [],
   "source": [
    "#lats"
   ]
  },
  {
   "cell_type": "markdown",
   "id": "eb93848d-1485-4175-8331-3b607eed7737",
   "metadata": {},
   "source": [
    "#### Parse lat-long data"
   ]
  },
  {
   "cell_type": "code",
   "execution_count": 88,
   "id": "5c185759-caa4-41bd-ad84-c7162e40c74e",
   "metadata": {},
   "outputs": [],
   "source": [
    "lats = data['x']['calls'][5]['args'][0]"
   ]
  },
  {
   "cell_type": "code",
   "execution_count": 89,
   "id": "7ed1a700-33aa-4ebb-99fa-86cbb777834d",
   "metadata": {},
   "outputs": [],
   "source": [
    "longs = data['x']['calls'][5]['args'][1]"
   ]
  },
  {
   "cell_type": "code",
   "execution_count": 98,
   "id": "5e3c193a-14bd-4688-bcf6-f3eea3169b67",
   "metadata": {},
   "outputs": [],
   "source": [
    "indeces = data['x']['calls'][5]['args'][2]['iconUrl']['index']"
   ]
  },
  {
   "cell_type": "code",
   "execution_count": null,
   "id": "7a9555d2-aa75-4e0a-b28e-698cf3d946ac",
   "metadata": {},
   "outputs": [],
   "source": []
  },
  {
   "cell_type": "code",
   "execution_count": 105,
   "id": "2c06ff47-4004-47db-ad6f-e81c8118762a",
   "metadata": {},
   "outputs": [],
   "source": [
    "dict_list = []\n",
    "for idx, lat in enumerate(lats):\n",
    "    d = dict(\n",
    "        lat = lat,\n",
    "        lng = longs[idx],\n",
    "        symbol = indeces[idx],\n",
    "    )\n",
    "    dict_list.append(d)"
   ]
  },
  {
   "cell_type": "code",
   "execution_count": 106,
   "id": "3bab57ec-127b-43a7-aa9f-d15f643b21f2",
   "metadata": {},
   "outputs": [],
   "source": [
    "latlong = pd.DataFrame(dict_list)"
   ]
  },
  {
   "cell_type": "code",
   "execution_count": 107,
   "id": "ba5f33cf-4eff-415d-a54c-c27924961519",
   "metadata": {},
   "outputs": [
    {
     "data": {
      "text/html": [
       "<div>\n",
       "<style scoped>\n",
       "    .dataframe tbody tr th:only-of-type {\n",
       "        vertical-align: middle;\n",
       "    }\n",
       "\n",
       "    .dataframe tbody tr th {\n",
       "        vertical-align: top;\n",
       "    }\n",
       "\n",
       "    .dataframe thead th {\n",
       "        text-align: right;\n",
       "    }\n",
       "</style>\n",
       "<table border=\"1\" class=\"dataframe\">\n",
       "  <thead>\n",
       "    <tr style=\"text-align: right;\">\n",
       "      <th></th>\n",
       "      <th>lat</th>\n",
       "      <th>lng</th>\n",
       "      <th>symbol</th>\n",
       "    </tr>\n",
       "  </thead>\n",
       "  <tbody>\n",
       "    <tr>\n",
       "      <th>0</th>\n",
       "      <td>34.036970</td>\n",
       "      <td>-118.265280</td>\n",
       "      <td>0</td>\n",
       "    </tr>\n",
       "    <tr>\n",
       "      <th>1</th>\n",
       "      <td>34.101943</td>\n",
       "      <td>-118.296456</td>\n",
       "      <td>0</td>\n",
       "    </tr>\n",
       "    <tr>\n",
       "      <th>2</th>\n",
       "      <td>34.103816</td>\n",
       "      <td>-118.309471</td>\n",
       "      <td>0</td>\n",
       "    </tr>\n",
       "    <tr>\n",
       "      <th>3</th>\n",
       "      <td>34.160435</td>\n",
       "      <td>-118.448495</td>\n",
       "      <td>0</td>\n",
       "    </tr>\n",
       "    <tr>\n",
       "      <th>4</th>\n",
       "      <td>34.067381</td>\n",
       "      <td>-118.376628</td>\n",
       "      <td>0</td>\n",
       "    </tr>\n",
       "    <tr>\n",
       "      <th>...</th>\n",
       "      <td>...</td>\n",
       "      <td>...</td>\n",
       "      <td>...</td>\n",
       "    </tr>\n",
       "    <tr>\n",
       "      <th>97</th>\n",
       "      <td>33.881479</td>\n",
       "      <td>-118.288525</td>\n",
       "      <td>0</td>\n",
       "    </tr>\n",
       "    <tr>\n",
       "      <th>98</th>\n",
       "      <td>33.949231</td>\n",
       "      <td>-118.352975</td>\n",
       "      <td>0</td>\n",
       "    </tr>\n",
       "    <tr>\n",
       "      <th>99</th>\n",
       "      <td>34.073439</td>\n",
       "      <td>-118.379923</td>\n",
       "      <td>0</td>\n",
       "    </tr>\n",
       "    <tr>\n",
       "      <th>100</th>\n",
       "      <td>34.076216</td>\n",
       "      <td>-118.373378</td>\n",
       "      <td>0</td>\n",
       "    </tr>\n",
       "    <tr>\n",
       "      <th>101</th>\n",
       "      <td>34.101823</td>\n",
       "      <td>-118.321473</td>\n",
       "      <td>0</td>\n",
       "    </tr>\n",
       "  </tbody>\n",
       "</table>\n",
       "<p>102 rows × 3 columns</p>\n",
       "</div>"
      ],
      "text/plain": [
       "           lat         lng  symbol\n",
       "0    34.036970 -118.265280       0\n",
       "1    34.101943 -118.296456       0\n",
       "2    34.103816 -118.309471       0\n",
       "3    34.160435 -118.448495       0\n",
       "4    34.067381 -118.376628       0\n",
       "..         ...         ...     ...\n",
       "97   33.881479 -118.288525       0\n",
       "98   33.949231 -118.352975       0\n",
       "99   34.073439 -118.379923       0\n",
       "100  34.076216 -118.373378       0\n",
       "101  34.101823 -118.321473       0\n",
       "\n",
       "[102 rows x 3 columns]"
      ]
     },
     "execution_count": 107,
     "metadata": {},
     "output_type": "execute_result"
    }
   ],
   "source": [
    "latlong"
   ]
  },
  {
   "cell_type": "code",
   "execution_count": 108,
   "id": "446ee06d-3cec-4ccc-9466-ce1ca4456f9a",
   "metadata": {},
   "outputs": [],
   "source": [
    "latlong.to_csv(\"output/mp_vaccine_sites.txt\", index=False)"
   ]
  },
  {
   "cell_type": "code",
   "execution_count": null,
   "id": "422de2b6-122a-40ea-b4d0-ac3557d7d2e2",
   "metadata": {},
   "outputs": [],
   "source": []
  }
 ],
 "metadata": {
  "kernelspec": {
   "display_name": "Python 3 (ipykernel)",
   "language": "python",
   "name": "python3"
  },
  "language_info": {
   "codemirror_mode": {
    "name": "ipython",
    "version": 3
   },
   "file_extension": ".py",
   "mimetype": "text/x-python",
   "name": "python",
   "nbconvert_exporter": "python",
   "pygments_lexer": "ipython3",
   "version": "3.10.5"
  }
 },
 "nbformat": 4,
 "nbformat_minor": 5
}
